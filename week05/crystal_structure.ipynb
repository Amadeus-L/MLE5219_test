{
 "cells": [
  {
   "cell_type": "markdown",
   "metadata": {},
   "source": [
    "# Practical: Crystal Structure\n",
    "```{admonition} Pymatgen\n",
    ":class: info\n",
    "Make sure you have `pymatgen` installed. Please refer to the [installation instructions](../orientation/setup.md#creating-python-virtual-environments).\n",
    "```\n",
    "\n",
    "`pymatgen` ([Python Materials Genome](https://pymatgen.org/)) is a Python library for materials analysis. It provides classes to work with crystal structures, molecules, and other materials-related objects. It also provides tools to perform various analyses on these objects.\n",
    "\n",
    "In this practical, we will learn how to use the `pymatgen` library to work with crystal structures. We will learn how to create a crystal structure, visualize it, and perform some basic operations on it. \n",
    "\n",
    "\n",
    "\n",
    "In short words, crystal structure = lattice + basis. We will start from the lattice.\n",
    "\n",
    "## Lattice\n",
    "\n",
    "Crystal structure is a fundamental concept in materials science. It describes the arrangement of atoms in a solid material. The crystal structure of a material can be described by the lattice parameters and the atomic positions within the unit cell.\n",
    "\n",
    "You can use `pymatgen` to create a `Lattice` object. The lattice is defined by three lattice vectors `a`, `b`, and `c`. You can supply lattice vectors as a tuple `(a, b, c)` using `from_parameters()` or as a $3\\times3$ matrix using its `matrix` attribute.\n",
    "\n",
    "$$\n",
    "\\begin{pmatrix}\n",
    "a_x & a_y & a_z \\\\\n",
    "b_x & b_y & b_z \\\\\n",
    "c_x & c_y & c_z \\\\\n",
    "\\end{pmatrix}\n",
    "$$"
   ]
  },
  {
   "cell_type": "code",
   "execution_count": 1,
   "metadata": {},
   "outputs": [
    {
     "name": "stdout",
     "output_type": "stream",
     "text": [
      "5.430000 0.000000 0.000000\n",
      "0.000000 5.430000 0.000000\n",
      "0.000000 0.000000 5.430000\n",
      "[2.715 2.715 2.715]\n"
     ]
    }
   ],
   "source": [
    "from pymatgen.core import Lattice\n",
    "\n",
    "# Create a Lattice object\n",
    "lattice = Lattice(matrix = [[5.43, 0, 0],  # ax, ay, az\n",
    "                            [0, 5.43, 0],  # bx, by, bz\n",
    "                            [0, 0, 5.43]]) # cx, cy, cz\n",
    "\n",
    "# Another way to create this Lattice object\n",
    "lattice = Lattice.from_parameters(a=5.43, b=5.43, c=5.43, alpha=90, beta=90, gamma=90)\n",
    "lattice = Lattice.cubic(a=5.43)\n",
    "\n",
    "print(lattice)\n",
    "\n",
    "\n",
    "print(lattice.get_cartesian_coords([0.5, 0.5, 0.5]))\n",
    "\n"
   ]
  },
  {
   "cell_type": "markdown",
   "metadata": {},
   "source": [
    "### Calculating Miller Indices and d-spacing\n",
    "Miller indices are used to describe planes in a crystal lattice. The Miller indices of a plane are the reciprocals of the fractional intercepts of the plane on the unit cell axes. The Miller indices of a plane are denoted as $(hkl)$. The Miller indices of a plane are calculated using `get_miller_index_from_coords()` method of the `Lattice` class. You can provide the coordinates of the plane as a tuple `(x, y, z)`. The method will return the Miller indices of the plane.\n",
    "\n",
    "The d-spacing of a plane is the distance between the planes. The d-spacing of a plane is calculated using the `d_hkl()` method of the `Lattice` class. You can provide the Miller indices of the plane as a tuple `(h, k, l)`. The method will return the d-spacing of the plane.\n",
    "\n",
    "For cubic systems, the d-spacing of a plane with Miller indices $(hkl)$ is given by the formula:\n",
    "$d_{hkl} = \\frac{a}{\\sqrt{h^2 + k^2 + l^2}}$"
   ]
  },
  {
   "cell_type": "code",
   "execution_count": 2,
   "metadata": {},
   "outputs": [
    {
     "name": "stdout",
     "output_type": "stream",
     "text": [
      "Miller indices: (2, 2, 1)\n",
      "d-spacing: 1.810 Å\n"
     ]
    }
   ],
   "source": [
    "lattice = Lattice.from_parameters(a=5.43, b=5.43, c=5.43, alpha=90, beta=90, gamma=90)\n",
    "miller_indices=lattice.get_miller_index_from_coords([[0.5, 0, 0],\n",
    "                                                    [0, 0.5, 0.0],\n",
    "                                                    [0.0, 0, 1]])\n",
    "print(f\"Miller indices: {miller_indices}\")\n",
    "\n",
    "d_spacing = lattice.d_hkl(miller_indices)\n",
    "print(f\"d-spacing: {d_spacing:.3f} Å\")"
   ]
  },
  {
   "cell_type": "markdown",
   "metadata": {},
   "source": [
    "## Structure\n",
    "You can create a `Structure` object by providing the lattice and the basis. Basis is the set of atomic positions within the unit cell.  Each atomic position is a tuple `(specie, coords)` where `species` is the atomic symbol and `coords` is the coordiantes (by default fractional) of the atom in the unit cell."
   ]
  },
  {
   "cell_type": "code",
   "execution_count": 3,
   "metadata": {},
   "outputs": [
    {
     "name": "stdout",
     "output_type": "stream",
     "text": [
      "Full Formula (Si8)\n",
      "Reduced Formula: Si\n",
      "abc   :   5.430000   5.430000   5.430000\n",
      "angles:  90.000000  90.000000  90.000000\n",
      "pbc   :       True       True       True\n",
      "Sites (8)\n",
      "  #  SP       a     b     c\n",
      "---  ----  ----  ----  ----\n",
      "  0  Si    0.5   0     0.5\n",
      "  1  Si    0.25  0.25  0.25\n",
      "  2  Si    0     0     0\n",
      "  3  Si    0.25  0.75  0.75\n",
      "  4  Si    0.75  0.25  0.75\n",
      "  5  Si    0     0.5   0.5\n",
      "  6  Si    0.5   0.5   0\n",
      "  7  Si    0.75  0.75  0.25\n"
     ]
    }
   ],
   "source": [
    "from pymatgen.core import Structure\n",
    "\n",
    "lattice_si = Lattice.from_parameters(a=5.43, b=5.43, c=5.43, alpha=90, beta=90, gamma=90) \n",
    "structure_si = Structure.from_spacegroup(sg=227, species=[\"Si\"], lattice=lattice_si, coords=[[0, 0, 0]])\n",
    "\n",
    "print(structure_si)"
   ]
  },
  {
   "cell_type": "markdown",
   "metadata": {},
   "source": [
    "## Apply Deformation\n",
    "You can apply a deformation to the lattice using the `apply_strain()` method. The deformation is defined by a $3\\times3$ matrix. This is useful to study the effect of strain on the crystal structure."
   ]
  },
  {
   "cell_type": "code",
   "execution_count": 4,
   "metadata": {},
   "outputs": [
    {
     "name": "stdout",
     "output_type": "stream",
     "text": [
      "Lattice parameters: 5.430, 5.430, 5.430\n",
      "Lattice parameters (after strained): 5.376, 5.376, 5.376\n"
     ]
    }
   ],
   "source": [
    "print(f\"Lattice parameters: {structure_si.lattice.a:.3f}, {structure_si.lattice.b:.3f}, {structure_si.lattice.c:.3f}\")\n",
    "structure_si.apply_strain([-0.01, -0.01, -0.01], inplace=True) # Apply a 1% strain to the structure\n",
    "print(f\"Lattice parameters (after strained): {structure_si.lattice.a:.3f}, {structure_si.lattice.b:.3f}, {structure_si.lattice.c:.3f}\")\n"
   ]
  },
  {
   "cell_type": "markdown",
   "metadata": {},
   "source": [
    "## Structure Visualization\n",
    "You can export the crystal structure to a `.cif` file and visualize it using visualization tools like VESTA, Jmol, or VESTA.\n",
    "\n",
    "In this course, we will use VESTA to visualize the crystal structures. You can find more details about VESTA in the [next practical](./vesta.md)."
   ]
  },
  {
   "cell_type": "code",
   "execution_count": 5,
   "metadata": {},
   "outputs": [],
   "source": [
    "structure_si.to(filename=\"Si.cif\")\n",
    "\n",
    "# You can also load a structure from a CIF file\n",
    "structure_si = Structure.from_file(\"Si.cif\")"
   ]
  },
  {
   "cell_type": "markdown",
   "metadata": {},
   "source": [
    "## Primitive Cell vs Convensional Cell\n",
    "The primitive cell is the smallest unit cell that can be used to describe the crystal structure. The conventional cell is a larger unit cell that is used to describe the crystal structure in a more convenient way. You can convert a structure to a primitive cell using `structure.get_primitive_structure()`."
   ]
  },
  {
   "cell_type": "code",
   "execution_count": 6,
   "metadata": {},
   "outputs": [
    {
     "name": "stdout",
     "output_type": "stream",
     "text": [
      "conventional_structure = \n",
      "Full Formula (Si8)\n",
      "Reduced Formula: Si\n",
      "abc   :   5.375700   5.375700   5.375700\n",
      "angles:  90.000000  90.000000  90.000000\n",
      "pbc   :       True       True       True\n",
      "Sites (8)\n",
      "  #  SP       a     b     c\n",
      "---  ----  ----  ----  ----\n",
      "  0  Si    0.5   0     0.5\n",
      "  1  Si    0.25  0.25  0.25\n",
      "  2  Si    0     0     0\n",
      "  3  Si    0.25  0.75  0.75\n",
      "  4  Si    0.75  0.25  0.75\n",
      "  5  Si    0     0.5   0.5\n",
      "  6  Si    0.5   0.5   0\n",
      "  7  Si    0.75  0.75  0.25\n",
      "primitive_structure = \n",
      "Full Formula (Si2)\n",
      "Reduced Formula: Si\n",
      "abc   :   3.801194   3.801194   3.801194\n",
      "angles:  60.000000  60.000000  60.000000\n",
      "pbc   :       True       True       True\n",
      "Sites (2)\n",
      "  #  SP       a     b     c\n",
      "---  ----  ----  ----  ----\n",
      "  0  Si    0     0     0\n",
      "  1  Si    0.75  0.75  0.75\n",
      "\n"
     ]
    }
   ],
   "source": [
    "primitive_structure = structure_si.get_primitive_structure()\n",
    "\n",
    "print(f\"conventional_structure = \\n{structure_si}\")\n",
    "print(f\"primitive_structure = \\n{primitive_structure}\\n\")"
   ]
  },
  {
   "cell_type": "markdown",
   "metadata": {},
   "source": [
    "## Symmetry\n",
    "### Symmetry Analyzer\n",
    "`pymatgen` provides a `SymmetryAnalyzer` class to analyze the symmetry of a crystal structure. You can use `SymmetryAnalyzer` to get the symmetry information from a structure. The code will call `spglib` to get the symmetry information."
   ]
  },
  {
   "cell_type": "code",
   "execution_count": 7,
   "metadata": {},
   "outputs": [
    {
     "data": {
      "application/vnd.jupyter.widget-view+json": {
       "model_id": "fef8ee6c77e44b728bf8e72ab339ce1d",
       "version_major": 2,
       "version_minor": 0
      },
      "text/plain": [
       "Retrieving MaterialsDoc documents:   0%|          | 0/1 [00:00<?, ?it/s]"
      ]
     },
     "metadata": {},
     "output_type": "display_data"
    },
    {
     "name": "stdout",
     "output_type": "stream",
     "text": [
      "conventional_structure = \n",
      "Full Formula (Ba1 Ti1 O3)\n",
      "Reduced Formula: BaTiO3\n",
      "abc   :   4.007682   4.007682   4.007682\n",
      "angles:  90.000000  90.000000  90.000000\n",
      "pbc   :       True       True       True\n",
      "Sites (5)\n",
      "  #  SP      a    b    c\n",
      "---  ----  ---  ---  ---\n",
      "  0  Ba    0.5  0.5  0.5\n",
      "  1  Ti    0    0    0\n",
      "  2  O     0.5  0    0\n",
      "  3  O     0    0.5  0\n",
      "  4  O     0    0    0.5\n",
      "\n",
      "primitive_structure = \n",
      "Full Formula (Ba1 Ti1 O3)\n",
      "Reduced Formula: BaTiO3\n",
      "abc   :   4.007682   4.007682   4.007682\n",
      "angles:  90.000000  90.000000  90.000000\n",
      "pbc   :       True       True       True\n",
      "Sites (5)\n",
      "  #  SP      a    b    c\n",
      "---  ----  ---  ---  ---\n",
      "  0  Ba    0.5  0.5  0.5\n",
      "  1  Ti    0    0    0\n",
      "  2  O     0.5  0    0\n",
      "  3  O     0    0.5  0\n",
      "  4  O     0    0    0.5\n",
      "\n",
      "Crystal system: cubic\n",
      "\n",
      "Wyckoff sites: ['b', 'a', 'd', 'd', 'd']\n",
      "multiplicity: [0 1 2 2 2]\n"
     ]
    },
    {
     "name": "stderr",
     "output_type": "stream",
     "text": [
      "f:\\anaconda\\envs\\mi\\Lib\\site-packages\\spglib\\spglib.py:115: DeprecationWarning: dict interface (SpglibDataset['wyckoffs']) is deprecated.Use attribute interface ({self.__class__.__name__}.{key}) instead\n",
      "  warnings.warn(\n",
      "f:\\anaconda\\envs\\mi\\Lib\\site-packages\\spglib\\spglib.py:115: DeprecationWarning: dict interface (SpglibDataset['equivalent_atoms']) is deprecated.Use attribute interface ({self.__class__.__name__}.{key}) instead\n",
      "  warnings.warn(\n"
     ]
    }
   ],
   "source": [
    "from pymatgen.symmetry.analyzer import SpacegroupAnalyzer\n",
    "\n",
    "structure = Structure.from_id(id_ = \"mp-2998\",api_key=\"WrdzUerIW5RHiXiXNSPm3sHeM4JN8BGV\")\n",
    "sga = SpacegroupAnalyzer(structure, symprec = 0.01, angle_tolerance=3)\n",
    "\n",
    "conventional_structure = sga.get_conventional_standard_structure()\n",
    "primitive_structure = sga.get_primitive_standard_structure()\n",
    "\n",
    "print(f\"conventional_structure = \\n{conventional_structure}\\n\")\n",
    "print(f\"primitive_structure = \\n{primitive_structure}\\n\")\n",
    "symmtrized_structure = sga.get_symmetrized_structure()\n",
    "\n",
    "sga = SpacegroupAnalyzer(primitive_structure)\n",
    "print(f\"Crystal system: {sga.get_crystal_system()}\\n\")\n",
    "print(f\"Wyckoff sites: {sga.get_symmetry_dataset()['wyckoffs']}\")\n",
    "print(f\"multiplicity: {sga.get_symmetry_dataset()['equivalent_atoms']}\")\n"
   ]
  },
  {
   "cell_type": "markdown",
   "metadata": {},
   "source": [
    "### Symmetry Operations\n",
    "Symmetry operations are operations that leave the crystal structure invariant. "
   ]
  },
  {
   "cell_type": "code",
   "execution_count": 9,
   "metadata": {},
   "outputs": [
    {
     "name": "stdout",
     "output_type": "stream",
     "text": [
      "orbit = [array([ 0.5, -0.5,  0.5]), array([-0.5, -0.5, -0.5]), array([0.5, 0.5, 0.5]), array([-0.5,  0.5, -0.5])]\n",
      "Symmetry operation 1:\n",
      "Rot:\n",
      "[[ 1.  0.  0.]\n",
      " [ 0. -1.  0.]\n",
      " [ 0.  0.  1.]]\n",
      "tau\n",
      "[0. 0. 0.]\n",
      "\n",
      "Symmetry operation 2:\n",
      "Rot:\n",
      "[[-1.  0.  0.]\n",
      " [ 0. -1.  0.]\n",
      " [ 0.  0. -1.]]\n",
      "tau\n",
      "[0. 0. 0.]\n",
      "\n",
      "Symmetry operation 3:\n",
      "Rot:\n",
      "[[1. 0. 0.]\n",
      " [0. 1. 0.]\n",
      " [0. 0. 1.]]\n",
      "tau\n",
      "[0. 0. 0.]\n",
      "\n",
      "Symmetry operation 4:\n",
      "Rot:\n",
      "[[-1.  0.  0.]\n",
      " [ 0.  1.  0.]\n",
      " [ 0.  0. -1.]]\n",
      "tau\n",
      "[0. 0. 0.]\n",
      "\n"
     ]
    }
   ],
   "source": [
    "from pymatgen.symmetry.groups import PointGroup\n",
    "\n",
    "point_group = PointGroup(\"2/m\")\n",
    "\n",
    "orbit = point_group.get_orbit([0.5, 0.5, 0.5])\n",
    "\n",
    "print(f\"orbit = {orbit}\")\n",
    "for i,sym_op in enumerate(point_group.symmetry_ops):\n",
    "    print(f\"Symmetry operation {i+1}:\")\n",
    "    print(sym_op)\n",
    "    print()\n"
   ]
  },
  {
   "cell_type": "code",
   "execution_count": 10,
   "metadata": {},
   "outputs": [
    {
     "name": "stdout",
     "output_type": "stream",
     "text": [
      "crystal system: orthorhombic\n",
      "Symmetry operation 1:\n",
      "Rot:\n",
      "[[-1.  0.  0.]\n",
      " [ 0.  1.  0.]\n",
      " [ 0.  0. -1.]]\n",
      "tau\n",
      "[0.  0.5 0. ]\n",
      "\n",
      "Symmetry operation 2:\n",
      "Rot:\n",
      "[[-1.  0.  0.]\n",
      " [ 0. -1.  0.]\n",
      " [ 0.  0. -1.]]\n",
      "tau\n",
      "[0. 0. 0.]\n",
      "\n",
      "Symmetry operation 3:\n",
      "Rot:\n",
      "[[-1.  0.  0.]\n",
      " [ 0. -1.  0.]\n",
      " [ 0.  0.  1.]]\n",
      "tau\n",
      "[0.5 0.  0.5]\n",
      "\n",
      "Symmetry operation 4:\n",
      "Rot:\n",
      "[[ 1.  0.  0.]\n",
      " [ 0. -1.  0.]\n",
      " [ 0.  0. -1.]]\n",
      "tau\n",
      "[0.5 0.5 0.5]\n",
      "\n",
      "Symmetry operation 5:\n",
      "Rot:\n",
      "[[1. 0. 0.]\n",
      " [0. 1. 0.]\n",
      " [0. 0. 1.]]\n",
      "tau\n",
      "[0. 0. 0.]\n",
      "\n",
      "Symmetry operation 6:\n",
      "Rot:\n",
      "[[ 1.  0.  0.]\n",
      " [ 0.  1.  0.]\n",
      " [ 0.  0. -1.]]\n",
      "tau\n",
      "[-0.5  0.  -0.5]\n",
      "\n",
      "Symmetry operation 7:\n",
      "Rot:\n",
      "[[-1.  0.  0.]\n",
      " [ 0.  1.  0.]\n",
      " [ 0.  0.  1.]]\n",
      "tau\n",
      "[-0.5 -0.5 -0.5]\n",
      "\n",
      "Symmetry operation 8:\n",
      "Rot:\n",
      "[[ 1.  0.  0.]\n",
      " [ 0. -1.  0.]\n",
      " [ 0.  0.  1.]]\n",
      "tau\n",
      "[ 0.  -0.5  0. ]\n",
      "\n"
     ]
    }
   ],
   "source": [
    "from pymatgen.symmetry.groups import SpaceGroup\n",
    "\n",
    "sg = SpaceGroup(int_symbol = 'Pnma')\n",
    "crystal_system = sg.crystal_system\n",
    "symm_ops = sg.symmetry_ops\n",
    "print(f\"crystal system: {crystal_system}\")\n",
    "\n",
    "for i, symm_op in enumerate(symm_ops):\n",
    "    print(f\"Symmetry operation {i+1}:\")\n",
    "    print(symm_op)\n",
    "    print()\n"
   ]
  },
  {
   "cell_type": "markdown",
   "metadata": {},
   "source": [
    "### Apply Symmetry Operations\n",
    "You can apply symmetry operations to a structure using the `apply_operation()` method. You will get a new structure with the symmetry operation applied. If this symmetry operation is within the space group of the structure, the new structure will be equivalent to the original structure."
   ]
  },
  {
   "cell_type": "code",
   "execution_count": 11,
   "metadata": {},
   "outputs": [
    {
     "name": "stdout",
     "output_type": "stream",
     "text": [
      "Crystal system: cubic\n",
      "Space group: Fd-3m\n",
      "Changed after apply symmetry operation? False\n"
     ]
    }
   ],
   "source": [
    "structure_si = Structure.from_spacegroup(sg=227, species=[\"Si\"], lattice=lattice_si, coords=[[0, 0, 0]])\n",
    "sga = SpacegroupAnalyzer(structure_si, symprec=0.01, angle_tolerance=5)\n",
    "print(f\"Crystal system: {sga.get_crystal_system()}\")\n",
    "print(f\"Space group: {sga.get_space_group_symbol()}\")\n",
    "\n",
    "symm_ops = sga.get_symmetry_operations()\n",
    "structure_si_after_tranformed = structure_si.apply_operation(symm_ops[1])\n",
    "print(f\"Changed after apply symmetry operation? {structure_si != structure_si_after_tranformed}\")"
   ]
  },
  {
   "cell_type": "markdown",
   "metadata": {},
   "source": [
    "### Subgroup and Supergroup\n",
    "\n",
    "When $H$ is a subgroup of $G$, it means that all the symmetry operations of $H$ are also symmetry operations of G (also written as $H < G$). When $H$ is a supergroup of $G$, it means that all the symmetry operations of G are also symmetry operations of $H$ (also written as $H > G$).\n",
    "\n",
    "Supergroup and subgroup relationship is very important for phase transitions in materials. When a material undergoes a phase transition, the symmetry of the material changes. The lower symmetry group is a subgroup of the higher symmetry group. For example, when a material undergoes a phase transition from cubic to tetragonal, the cubic group is a supergroup of the tetragonal group. An example is $BaTiO_3$, which undergoes a phase transition from cubic (Pm-3m) to tetragonal (P4mm) at 393 K.\n",
    "\n",
    "You can use `is_subgroup()` and `is_supergroup()` methods to check if a group is a subgroup or supergroup of another group."
   ]
  },
  {
   "cell_type": "code",
   "execution_count": 12,
   "metadata": {},
   "outputs": [
    {
     "name": "stdout",
     "output_type": "stream",
     "text": [
      "Are H (P4mm) and G (Pm-3m) equivalent? False\n",
      "Is G (P4mm) a subgroup (<) of H (Pm-3m)? True\n",
      "Is H (Pm-3m) a supergroup (>) of G (P4mm)? True\n"
     ]
    }
   ],
   "source": [
    "H = SpaceGroup(int_symbol = 'Pm-3m')\n",
    "G = SpaceGroup(int_symbol = 'P4mm')\n",
    "\n",
    "print(f\"Are H ({G.symbol}) and G ({H.symbol}) equivalent? {H==G}\")\n",
    "print(f\"Is G ({G.symbol}) a subgroup (<) of H ({H.symbol})? {G.is_subgroup(H)}\")\n",
    "print(f\"Is H ({H.symbol}) a supergroup (>) of G ({G.symbol})? {H.is_supergroup(G)}\")"
   ]
  },
  {
   "cell_type": "markdown",
   "metadata": {},
   "source": [
    "### Reciprocal Lattice\n",
    "You can also create a reciprocal lattice object from the lattice object. The reciprocal lattice is defined by the reciprocal lattice vectors `a*`, `b*`, and `c*`. The reciprocal lattice vectors are given by the formula:\n",
    "$$\n",
    "\\mathbf{a}^* = 2\\pi \\frac{\\mathbf{b} \\times \\mathbf{c}}{\\mathbf{a} \\cdot (\\mathbf{b} \\times \\mathbf{c})}, \\quad\n",
    "\\mathbf{b}^* = 2\\pi \\frac{\\mathbf{c} \\times \\mathbf{a}}{\\mathbf{a} \\cdot (\\mathbf{b} \\times \\mathbf{c})}, \\quad\n",
    "\\mathbf{c}^* = 2\\pi \\frac{\\mathbf{a} \\times \\mathbf{b}}{\\mathbf{a} \\cdot (\\mathbf{b} \\times \\mathbf{c})}\n",
    "$$\n",
    "\n",
    "### Brillouin Zone\n",
    "The Brillouin zone is a primitive cell in reciprocal space. It is used to describe the behavior of electrons in a solid material. You can create a Brillouin zone object from the lattice object using `lattice.get_brillouin_zone()`. The Brillouin zone object contains the vertices of the Brillouin zone.\n",
    "\n",
    "The Brillouin zone of an FCC lattice is a truncated octahedron. The Brillouin zone of a BCC lattice is a truncated octahedron. The Brillouin zone of a simple cubic lattice is a cube."
   ]
  },
  {
   "cell_type": "code",
   "execution_count": 13,
   "metadata": {},
   "outputs": [
    {
     "name": "stdout",
     "output_type": "stream",
     "text": [
      "Space group: Fd-3m\n",
      "reciprocal_lattice = \n",
      "-0.184 0.184 0.184\n",
      "0.184 -0.184 0.184\n",
      "0.184 0.184 -0.184\n",
      "brillouin_zone = [[array([ 8.52942405, -8.52942405, -8.52942405]), array([ 3.55271368e-15, -3.25447754e-31, -1.70588481e+01]), array([-8.52942405, -8.52942405, -8.52942405]), array([-7.10542736e-15, -1.70588481e+01, -5.50235912e-15])], [array([-1.70588481e+01, -3.55271368e-15,  3.29175919e-15]), array([-8.52942405, -8.52942405,  8.52942405]), array([-7.10542736e-15, -1.70588481e+01, -5.50235912e-15]), array([-8.52942405, -8.52942405, -8.52942405])], [array([-7.10542736e-15, -1.70588481e+01, -5.50235912e-15]), array([-8.52942405, -8.52942405,  8.52942405]), array([-7.10542736e-15, -6.21340909e-16,  1.70588481e+01]), array([ 8.52942405, -8.52942405,  8.52942405])], [array([-1.70588481e+01, -3.55271368e-15,  3.29175919e-15]), array([-8.52942405,  8.52942405,  8.52942405]), array([-7.10542736e-15, -6.21340909e-16,  1.70588481e+01]), array([-8.52942405, -8.52942405,  8.52942405])], [array([-1.70588481e+01, -3.55271368e-15,  3.29175919e-15]), array([-8.52942405, -8.52942405, -8.52942405]), array([ 3.55271368e-15, -3.25447754e-31, -1.70588481e+01]), array([-8.52942405,  8.52942405, -8.52942405])], [array([ 8.52942405,  8.52942405, -8.52942405]), array([ 1.70588481e+01, -2.35516230e-31, -2.93137277e-15]), array([8.52942405, 8.52942405, 8.52942405]), array([ 3.55271368e-15,  1.70588481e+01, -2.93137277e-15])], [array([ 8.52942405, -8.52942405, -8.52942405]), array([ 3.55271368e-15, -3.25447754e-31, -1.70588481e+01]), array([ 8.52942405,  8.52942405, -8.52942405]), array([ 1.70588481e+01, -2.35516230e-31, -2.93137277e-15])], [array([-8.52942405,  8.52942405,  8.52942405]), array([-1.70588481e+01, -3.55271368e-15,  3.29175919e-15]), array([-8.52942405,  8.52942405, -8.52942405]), array([ 3.55271368e-15,  1.70588481e+01, -2.93137277e-15])], [array([ 8.52942405, -8.52942405, -8.52942405]), array([-7.10542736e-15, -1.70588481e+01, -5.50235912e-15]), array([ 8.52942405, -8.52942405,  8.52942405]), array([ 1.70588481e+01, -2.35516230e-31, -2.93137277e-15])], [array([-8.52942405,  8.52942405,  8.52942405]), array([ 3.55271368e-15,  1.70588481e+01, -2.93137277e-15]), array([8.52942405, 8.52942405, 8.52942405]), array([-7.10542736e-15, -6.21340909e-16,  1.70588481e+01])], [array([ 3.55271368e-15, -3.25447754e-31, -1.70588481e+01]), array([ 8.52942405,  8.52942405, -8.52942405]), array([ 3.55271368e-15,  1.70588481e+01, -2.93137277e-15]), array([-8.52942405,  8.52942405, -8.52942405])], [array([-7.10542736e-15, -6.21340909e-16,  1.70588481e+01]), array([8.52942405, 8.52942405, 8.52942405]), array([ 1.70588481e+01, -2.35516230e-31, -2.93137277e-15]), array([ 8.52942405, -8.52942405,  8.52942405])]]\n"
     ]
    },
    {
     "data": {
      "application/vnd.plotly.v1+json": {
       "config": {
        "plotlyServerURL": "https://plot.ly"
       },
       "data": [
        {
         "color": "lightgrey",
         "name": "Facet",
         "opacity": 0.5,
         "type": "mesh3d",
         "x": [
          8.52942405449629,
          3.552713678800501e-15,
          -8.52942405449629,
          -7.105427357601002e-15
         ],
         "y": [
          -8.529424054496285,
          -3.254477542609323e-31,
          -8.529424054496289,
          -17.058848108992578
         ],
         "z": [
          -8.529424054496289,
          -17.058848108992578,
          -8.529424054496285,
          -5.502359116559565e-15
         ]
        },
        {
         "line": {
          "color": "black",
          "width": 2
         },
         "mode": "lines",
         "showlegend": false,
         "type": "scatter3d",
         "x": [
          8.52942405449629,
          3.552713678800501e-15
         ],
         "y": [
          -8.529424054496285,
          -3.254477542609323e-31
         ],
         "z": [
          -8.529424054496289,
          -17.058848108992578
         ]
        },
        {
         "line": {
          "color": "black",
          "width": 2
         },
         "mode": "lines",
         "showlegend": false,
         "type": "scatter3d",
         "x": [
          3.552713678800501e-15,
          -8.52942405449629
         ],
         "y": [
          -3.254477542609323e-31,
          -8.529424054496289
         ],
         "z": [
          -17.058848108992578,
          -8.529424054496285
         ]
        },
        {
         "line": {
          "color": "black",
          "width": 2
         },
         "mode": "lines",
         "showlegend": false,
         "type": "scatter3d",
         "x": [
          -8.52942405449629,
          -7.105427357601002e-15
         ],
         "y": [
          -8.529424054496289,
          -17.058848108992578
         ],
         "z": [
          -8.529424054496285,
          -5.502359116559565e-15
         ]
        },
        {
         "line": {
          "color": "black",
          "width": 2
         },
         "mode": "lines",
         "showlegend": false,
         "type": "scatter3d",
         "x": [
          -7.105427357601002e-15,
          8.52942405449629
         ],
         "y": [
          -17.058848108992578,
          -8.529424054496285
         ],
         "z": [
          -5.502359116559565e-15,
          -8.529424054496289
         ]
        },
        {
         "color": "lightgrey",
         "name": "Facet",
         "opacity": 0.5,
         "type": "mesh3d",
         "x": [
          -17.058848108992578,
          -8.529424054496294,
          -7.105427357601002e-15,
          -8.52942405449629
         ],
         "y": [
          -3.552713678800501e-15,
          -8.529424054496287,
          -17.058848108992578,
          -8.529424054496289
         ],
         "z": [
          3.2917591923490296e-15,
          8.529424054496282,
          -5.502359116559565e-15,
          -8.529424054496285
         ]
        },
        {
         "line": {
          "color": "black",
          "width": 2
         },
         "mode": "lines",
         "showlegend": false,
         "type": "scatter3d",
         "x": [
          -17.058848108992578,
          -8.529424054496294
         ],
         "y": [
          -3.552713678800501e-15,
          -8.529424054496287
         ],
         "z": [
          3.2917591923490296e-15,
          8.529424054496282
         ]
        },
        {
         "line": {
          "color": "black",
          "width": 2
         },
         "mode": "lines",
         "showlegend": false,
         "type": "scatter3d",
         "x": [
          -8.529424054496294,
          -7.105427357601002e-15
         ],
         "y": [
          -8.529424054496287,
          -17.058848108992578
         ],
         "z": [
          8.529424054496282,
          -5.502359116559565e-15
         ]
        },
        {
         "line": {
          "color": "black",
          "width": 2
         },
         "mode": "lines",
         "showlegend": false,
         "type": "scatter3d",
         "x": [
          -7.105427357601002e-15,
          -8.52942405449629
         ],
         "y": [
          -17.058848108992578,
          -8.529424054496289
         ],
         "z": [
          -5.502359116559565e-15,
          -8.529424054496285
         ]
        },
        {
         "line": {
          "color": "black",
          "width": 2
         },
         "mode": "lines",
         "showlegend": false,
         "type": "scatter3d",
         "x": [
          -8.52942405449629,
          -17.058848108992578
         ],
         "y": [
          -8.529424054496289,
          -3.552713678800501e-15
         ],
         "z": [
          -8.529424054496285,
          3.2917591923490296e-15
         ]
        },
        {
         "color": "lightgrey",
         "name": "Facet",
         "opacity": 0.5,
         "type": "mesh3d",
         "x": [
          -7.105427357601002e-15,
          -8.529424054496294,
          -7.105427357601002e-15,
          8.529424054496282
         ],
         "y": [
          -17.058848108992578,
          -8.529424054496287,
          -6.213409091643034e-16,
          -8.52942405449629
         ],
         "z": [
          -5.502359116559565e-15,
          8.529424054496282,
          17.058848108992578,
          8.52942405449629
         ]
        },
        {
         "line": {
          "color": "black",
          "width": 2
         },
         "mode": "lines",
         "showlegend": false,
         "type": "scatter3d",
         "x": [
          -7.105427357601002e-15,
          -8.529424054496294
         ],
         "y": [
          -17.058848108992578,
          -8.529424054496287
         ],
         "z": [
          -5.502359116559565e-15,
          8.529424054496282
         ]
        },
        {
         "line": {
          "color": "black",
          "width": 2
         },
         "mode": "lines",
         "showlegend": false,
         "type": "scatter3d",
         "x": [
          -8.529424054496294,
          -7.105427357601002e-15
         ],
         "y": [
          -8.529424054496287,
          -6.213409091643034e-16
         ],
         "z": [
          8.529424054496282,
          17.058848108992578
         ]
        },
        {
         "line": {
          "color": "black",
          "width": 2
         },
         "mode": "lines",
         "showlegend": false,
         "type": "scatter3d",
         "x": [
          -7.105427357601002e-15,
          8.529424054496282
         ],
         "y": [
          -6.213409091643034e-16,
          -8.52942405449629
         ],
         "z": [
          17.058848108992578,
          8.52942405449629
         ]
        },
        {
         "line": {
          "color": "black",
          "width": 2
         },
         "mode": "lines",
         "showlegend": false,
         "type": "scatter3d",
         "x": [
          8.529424054496282,
          -7.105427357601002e-15
         ],
         "y": [
          -8.52942405449629,
          -17.058848108992578
         ],
         "z": [
          8.52942405449629,
          -5.502359116559565e-15
         ]
        },
        {
         "color": "lightgrey",
         "name": "Facet",
         "opacity": 0.5,
         "type": "mesh3d",
         "x": [
          -17.058848108992578,
          -8.52942405449629,
          -7.105427357601002e-15,
          -8.529424054496294
         ],
         "y": [
          -3.552713678800501e-15,
          8.529424054496284,
          -6.213409091643034e-16,
          -8.529424054496287
         ],
         "z": [
          3.2917591923490296e-15,
          8.529424054496287,
          17.058848108992578,
          8.529424054496282
         ]
        },
        {
         "line": {
          "color": "black",
          "width": 2
         },
         "mode": "lines",
         "showlegend": false,
         "type": "scatter3d",
         "x": [
          -17.058848108992578,
          -8.52942405449629
         ],
         "y": [
          -3.552713678800501e-15,
          8.529424054496284
         ],
         "z": [
          3.2917591923490296e-15,
          8.529424054496287
         ]
        },
        {
         "line": {
          "color": "black",
          "width": 2
         },
         "mode": "lines",
         "showlegend": false,
         "type": "scatter3d",
         "x": [
          -8.52942405449629,
          -7.105427357601002e-15
         ],
         "y": [
          8.529424054496284,
          -6.213409091643034e-16
         ],
         "z": [
          8.529424054496287,
          17.058848108992578
         ]
        },
        {
         "line": {
          "color": "black",
          "width": 2
         },
         "mode": "lines",
         "showlegend": false,
         "type": "scatter3d",
         "x": [
          -7.105427357601002e-15,
          -8.529424054496294
         ],
         "y": [
          -6.213409091643034e-16,
          -8.529424054496287
         ],
         "z": [
          17.058848108992578,
          8.529424054496282
         ]
        },
        {
         "line": {
          "color": "black",
          "width": 2
         },
         "mode": "lines",
         "showlegend": false,
         "type": "scatter3d",
         "x": [
          -8.529424054496294,
          -17.058848108992578
         ],
         "y": [
          -8.529424054496287,
          -3.552713678800501e-15
         ],
         "z": [
          8.529424054496282,
          3.2917591923490296e-15
         ]
        },
        {
         "color": "lightgrey",
         "name": "Facet",
         "opacity": 0.5,
         "type": "mesh3d",
         "x": [
          -17.058848108992578,
          -8.52942405449629,
          3.552713678800501e-15,
          -8.529424054496284
         ],
         "y": [
          -3.552713678800501e-15,
          -8.529424054496289,
          -3.254477542609323e-31,
          8.52942405449629
         ],
         "z": [
          3.2917591923490296e-15,
          -8.529424054496285,
          -17.058848108992578,
          -8.529424054496287
         ]
        },
        {
         "line": {
          "color": "black",
          "width": 2
         },
         "mode": "lines",
         "showlegend": false,
         "type": "scatter3d",
         "x": [
          -17.058848108992578,
          -8.52942405449629
         ],
         "y": [
          -3.552713678800501e-15,
          -8.529424054496289
         ],
         "z": [
          3.2917591923490296e-15,
          -8.529424054496285
         ]
        },
        {
         "line": {
          "color": "black",
          "width": 2
         },
         "mode": "lines",
         "showlegend": false,
         "type": "scatter3d",
         "x": [
          -8.52942405449629,
          3.552713678800501e-15
         ],
         "y": [
          -8.529424054496289,
          -3.254477542609323e-31
         ],
         "z": [
          -8.529424054496285,
          -17.058848108992578
         ]
        },
        {
         "line": {
          "color": "black",
          "width": 2
         },
         "mode": "lines",
         "showlegend": false,
         "type": "scatter3d",
         "x": [
          3.552713678800501e-15,
          -8.529424054496284
         ],
         "y": [
          -3.254477542609323e-31,
          8.52942405449629
         ],
         "z": [
          -17.058848108992578,
          -8.529424054496287
         ]
        },
        {
         "line": {
          "color": "black",
          "width": 2
         },
         "mode": "lines",
         "showlegend": false,
         "type": "scatter3d",
         "x": [
          -8.529424054496284,
          -17.058848108992578
         ],
         "y": [
          8.52942405449629,
          -3.552713678800501e-15
         ],
         "z": [
          -8.529424054496287,
          3.2917591923490296e-15
         ]
        },
        {
         "color": "lightgrey",
         "name": "Facet",
         "opacity": 0.5,
         "type": "mesh3d",
         "x": [
          8.529424054496298,
          17.058848108992578,
          8.529424054496292,
          3.552713678800501e-15
         ],
         "y": [
          8.529424054496289,
          -2.3551623026492516e-31,
          8.52942405449629,
          17.058848108992578
         ],
         "z": [
          -8.529424054496282,
          -2.9313727696361987e-15,
          8.529424054496284,
          -2.931372769636198e-15
         ]
        },
        {
         "line": {
          "color": "black",
          "width": 2
         },
         "mode": "lines",
         "showlegend": false,
         "type": "scatter3d",
         "x": [
          8.529424054496298,
          17.058848108992578
         ],
         "y": [
          8.529424054496289,
          -2.3551623026492516e-31
         ],
         "z": [
          -8.529424054496282,
          -2.9313727696361987e-15
         ]
        },
        {
         "line": {
          "color": "black",
          "width": 2
         },
         "mode": "lines",
         "showlegend": false,
         "type": "scatter3d",
         "x": [
          17.058848108992578,
          8.529424054496292
         ],
         "y": [
          -2.3551623026492516e-31,
          8.52942405449629
         ],
         "z": [
          -2.9313727696361987e-15,
          8.529424054496284
         ]
        },
        {
         "line": {
          "color": "black",
          "width": 2
         },
         "mode": "lines",
         "showlegend": false,
         "type": "scatter3d",
         "x": [
          8.529424054496292,
          3.552713678800501e-15
         ],
         "y": [
          8.52942405449629,
          17.058848108992578
         ],
         "z": [
          8.529424054496284,
          -2.931372769636198e-15
         ]
        },
        {
         "line": {
          "color": "black",
          "width": 2
         },
         "mode": "lines",
         "showlegend": false,
         "type": "scatter3d",
         "x": [
          3.552713678800501e-15,
          8.529424054496298
         ],
         "y": [
          17.058848108992578,
          8.529424054496289
         ],
         "z": [
          -2.931372769636198e-15,
          -8.529424054496282
         ]
        },
        {
         "color": "lightgrey",
         "name": "Facet",
         "opacity": 0.5,
         "type": "mesh3d",
         "x": [
          8.52942405449629,
          3.552713678800501e-15,
          8.529424054496298,
          17.058848108992578
         ],
         "y": [
          -8.529424054496285,
          -3.254477542609323e-31,
          8.529424054496289,
          -2.3551623026492516e-31
         ],
         "z": [
          -8.529424054496289,
          -17.058848108992578,
          -8.529424054496282,
          -2.9313727696361987e-15
         ]
        },
        {
         "line": {
          "color": "black",
          "width": 2
         },
         "mode": "lines",
         "showlegend": false,
         "type": "scatter3d",
         "x": [
          8.52942405449629,
          3.552713678800501e-15
         ],
         "y": [
          -8.529424054496285,
          -3.254477542609323e-31
         ],
         "z": [
          -8.529424054496289,
          -17.058848108992578
         ]
        },
        {
         "line": {
          "color": "black",
          "width": 2
         },
         "mode": "lines",
         "showlegend": false,
         "type": "scatter3d",
         "x": [
          3.552713678800501e-15,
          8.529424054496298
         ],
         "y": [
          -3.254477542609323e-31,
          8.529424054496289
         ],
         "z": [
          -17.058848108992578,
          -8.529424054496282
         ]
        },
        {
         "line": {
          "color": "black",
          "width": 2
         },
         "mode": "lines",
         "showlegend": false,
         "type": "scatter3d",
         "x": [
          8.529424054496298,
          17.058848108992578
         ],
         "y": [
          8.529424054496289,
          -2.3551623026492516e-31
         ],
         "z": [
          -8.529424054496282,
          -2.9313727696361987e-15
         ]
        },
        {
         "line": {
          "color": "black",
          "width": 2
         },
         "mode": "lines",
         "showlegend": false,
         "type": "scatter3d",
         "x": [
          17.058848108992578,
          8.52942405449629
         ],
         "y": [
          -2.3551623026492516e-31,
          -8.529424054496285
         ],
         "z": [
          -2.9313727696361987e-15,
          -8.529424054496289
         ]
        },
        {
         "color": "lightgrey",
         "name": "Facet",
         "opacity": 0.5,
         "type": "mesh3d",
         "x": [
          -8.52942405449629,
          -17.058848108992578,
          -8.529424054496284,
          3.552713678800501e-15
         ],
         "y": [
          8.529424054496284,
          -3.552713678800501e-15,
          8.52942405449629,
          17.058848108992578
         ],
         "z": [
          8.529424054496287,
          3.2917591923490296e-15,
          -8.529424054496287,
          -2.931372769636198e-15
         ]
        },
        {
         "line": {
          "color": "black",
          "width": 2
         },
         "mode": "lines",
         "showlegend": false,
         "type": "scatter3d",
         "x": [
          -8.52942405449629,
          -17.058848108992578
         ],
         "y": [
          8.529424054496284,
          -3.552713678800501e-15
         ],
         "z": [
          8.529424054496287,
          3.2917591923490296e-15
         ]
        },
        {
         "line": {
          "color": "black",
          "width": 2
         },
         "mode": "lines",
         "showlegend": false,
         "type": "scatter3d",
         "x": [
          -17.058848108992578,
          -8.529424054496284
         ],
         "y": [
          -3.552713678800501e-15,
          8.52942405449629
         ],
         "z": [
          3.2917591923490296e-15,
          -8.529424054496287
         ]
        },
        {
         "line": {
          "color": "black",
          "width": 2
         },
         "mode": "lines",
         "showlegend": false,
         "type": "scatter3d",
         "x": [
          -8.529424054496284,
          3.552713678800501e-15
         ],
         "y": [
          8.52942405449629,
          17.058848108992578
         ],
         "z": [
          -8.529424054496287,
          -2.931372769636198e-15
         ]
        },
        {
         "line": {
          "color": "black",
          "width": 2
         },
         "mode": "lines",
         "showlegend": false,
         "type": "scatter3d",
         "x": [
          3.552713678800501e-15,
          -8.52942405449629
         ],
         "y": [
          17.058848108992578,
          8.529424054496284
         ],
         "z": [
          -2.931372769636198e-15,
          8.529424054496287
         ]
        },
        {
         "color": "lightgrey",
         "name": "Facet",
         "opacity": 0.5,
         "type": "mesh3d",
         "x": [
          8.52942405449629,
          -7.105427357601002e-15,
          8.529424054496282,
          17.058848108992578
         ],
         "y": [
          -8.529424054496285,
          -17.058848108992578,
          -8.52942405449629,
          -2.3551623026492516e-31
         ],
         "z": [
          -8.529424054496289,
          -5.502359116559565e-15,
          8.52942405449629,
          -2.9313727696361987e-15
         ]
        },
        {
         "line": {
          "color": "black",
          "width": 2
         },
         "mode": "lines",
         "showlegend": false,
         "type": "scatter3d",
         "x": [
          8.52942405449629,
          -7.105427357601002e-15
         ],
         "y": [
          -8.529424054496285,
          -17.058848108992578
         ],
         "z": [
          -8.529424054496289,
          -5.502359116559565e-15
         ]
        },
        {
         "line": {
          "color": "black",
          "width": 2
         },
         "mode": "lines",
         "showlegend": false,
         "type": "scatter3d",
         "x": [
          -7.105427357601002e-15,
          8.529424054496282
         ],
         "y": [
          -17.058848108992578,
          -8.52942405449629
         ],
         "z": [
          -5.502359116559565e-15,
          8.52942405449629
         ]
        },
        {
         "line": {
          "color": "black",
          "width": 2
         },
         "mode": "lines",
         "showlegend": false,
         "type": "scatter3d",
         "x": [
          8.529424054496282,
          17.058848108992578
         ],
         "y": [
          -8.52942405449629,
          -2.3551623026492516e-31
         ],
         "z": [
          8.52942405449629,
          -2.9313727696361987e-15
         ]
        },
        {
         "line": {
          "color": "black",
          "width": 2
         },
         "mode": "lines",
         "showlegend": false,
         "type": "scatter3d",
         "x": [
          17.058848108992578,
          8.52942405449629
         ],
         "y": [
          -2.3551623026492516e-31,
          -8.529424054496285
         ],
         "z": [
          -2.9313727696361987e-15,
          -8.529424054496289
         ]
        },
        {
         "color": "lightgrey",
         "name": "Facet",
         "opacity": 0.5,
         "type": "mesh3d",
         "x": [
          -8.52942405449629,
          3.552713678800501e-15,
          8.529424054496292,
          -7.105427357601002e-15
         ],
         "y": [
          8.529424054496284,
          17.058848108992578,
          8.52942405449629,
          -6.213409091643034e-16
         ],
         "z": [
          8.529424054496287,
          -2.931372769636198e-15,
          8.529424054496284,
          17.058848108992578
         ]
        },
        {
         "line": {
          "color": "black",
          "width": 2
         },
         "mode": "lines",
         "showlegend": false,
         "type": "scatter3d",
         "x": [
          -8.52942405449629,
          3.552713678800501e-15
         ],
         "y": [
          8.529424054496284,
          17.058848108992578
         ],
         "z": [
          8.529424054496287,
          -2.931372769636198e-15
         ]
        },
        {
         "line": {
          "color": "black",
          "width": 2
         },
         "mode": "lines",
         "showlegend": false,
         "type": "scatter3d",
         "x": [
          3.552713678800501e-15,
          8.529424054496292
         ],
         "y": [
          17.058848108992578,
          8.52942405449629
         ],
         "z": [
          -2.931372769636198e-15,
          8.529424054496284
         ]
        },
        {
         "line": {
          "color": "black",
          "width": 2
         },
         "mode": "lines",
         "showlegend": false,
         "type": "scatter3d",
         "x": [
          8.529424054496292,
          -7.105427357601002e-15
         ],
         "y": [
          8.52942405449629,
          -6.213409091643034e-16
         ],
         "z": [
          8.529424054496284,
          17.058848108992578
         ]
        },
        {
         "line": {
          "color": "black",
          "width": 2
         },
         "mode": "lines",
         "showlegend": false,
         "type": "scatter3d",
         "x": [
          -7.105427357601002e-15,
          -8.52942405449629
         ],
         "y": [
          -6.213409091643034e-16,
          8.529424054496284
         ],
         "z": [
          17.058848108992578,
          8.529424054496287
         ]
        },
        {
         "color": "lightgrey",
         "name": "Facet",
         "opacity": 0.5,
         "type": "mesh3d",
         "x": [
          3.552713678800501e-15,
          8.529424054496298,
          3.552713678800501e-15,
          -8.529424054496284
         ],
         "y": [
          -3.254477542609323e-31,
          8.529424054496289,
          17.058848108992578,
          8.52942405449629
         ],
         "z": [
          -17.058848108992578,
          -8.529424054496282,
          -2.931372769636198e-15,
          -8.529424054496287
         ]
        },
        {
         "line": {
          "color": "black",
          "width": 2
         },
         "mode": "lines",
         "showlegend": false,
         "type": "scatter3d",
         "x": [
          3.552713678800501e-15,
          8.529424054496298
         ],
         "y": [
          -3.254477542609323e-31,
          8.529424054496289
         ],
         "z": [
          -17.058848108992578,
          -8.529424054496282
         ]
        },
        {
         "line": {
          "color": "black",
          "width": 2
         },
         "mode": "lines",
         "showlegend": false,
         "type": "scatter3d",
         "x": [
          8.529424054496298,
          3.552713678800501e-15
         ],
         "y": [
          8.529424054496289,
          17.058848108992578
         ],
         "z": [
          -8.529424054496282,
          -2.931372769636198e-15
         ]
        },
        {
         "line": {
          "color": "black",
          "width": 2
         },
         "mode": "lines",
         "showlegend": false,
         "type": "scatter3d",
         "x": [
          3.552713678800501e-15,
          -8.529424054496284
         ],
         "y": [
          17.058848108992578,
          8.52942405449629
         ],
         "z": [
          -2.931372769636198e-15,
          -8.529424054496287
         ]
        },
        {
         "line": {
          "color": "black",
          "width": 2
         },
         "mode": "lines",
         "showlegend": false,
         "type": "scatter3d",
         "x": [
          -8.529424054496284,
          3.552713678800501e-15
         ],
         "y": [
          8.52942405449629,
          -3.254477542609323e-31
         ],
         "z": [
          -8.529424054496287,
          -17.058848108992578
         ]
        },
        {
         "color": "lightgrey",
         "name": "Facet",
         "opacity": 0.5,
         "type": "mesh3d",
         "x": [
          -7.105427357601002e-15,
          8.529424054496292,
          17.058848108992578,
          8.529424054496282
         ],
         "y": [
          -6.213409091643034e-16,
          8.52942405449629,
          -2.3551623026492516e-31,
          -8.52942405449629
         ],
         "z": [
          17.058848108992578,
          8.529424054496284,
          -2.9313727696361987e-15,
          8.52942405449629
         ]
        },
        {
         "line": {
          "color": "black",
          "width": 2
         },
         "mode": "lines",
         "showlegend": false,
         "type": "scatter3d",
         "x": [
          -7.105427357601002e-15,
          8.529424054496292
         ],
         "y": [
          -6.213409091643034e-16,
          8.52942405449629
         ],
         "z": [
          17.058848108992578,
          8.529424054496284
         ]
        },
        {
         "line": {
          "color": "black",
          "width": 2
         },
         "mode": "lines",
         "showlegend": false,
         "type": "scatter3d",
         "x": [
          8.529424054496292,
          17.058848108992578
         ],
         "y": [
          8.52942405449629,
          -2.3551623026492516e-31
         ],
         "z": [
          8.529424054496284,
          -2.9313727696361987e-15
         ]
        },
        {
         "line": {
          "color": "black",
          "width": 2
         },
         "mode": "lines",
         "showlegend": false,
         "type": "scatter3d",
         "x": [
          17.058848108992578,
          8.529424054496282
         ],
         "y": [
          -2.3551623026492516e-31,
          -8.52942405449629
         ],
         "z": [
          -2.9313727696361987e-15,
          8.52942405449629
         ]
        },
        {
         "line": {
          "color": "black",
          "width": 2
         },
         "mode": "lines",
         "showlegend": false,
         "type": "scatter3d",
         "x": [
          8.529424054496282,
          -7.105427357601002e-15
         ],
         "y": [
          -8.52942405449629,
          -6.213409091643034e-16
         ],
         "z": [
          8.52942405449629,
          17.058848108992578
         ]
        }
       ],
       "layout": {
        "height": 550,
        "margin": {
         "b": 0,
         "l": 0,
         "r": 0,
         "t": 40
        },
        "scene": {
         "xaxis": {
          "title": {
           "text": "X"
          }
         },
         "yaxis": {
          "title": {
           "text": "Y"
          }
         },
         "zaxis": {
          "title": {
           "text": "Z"
          }
         }
        },
        "template": {
         "data": {
          "bar": [
           {
            "error_x": {
             "color": "#2a3f5f"
            },
            "error_y": {
             "color": "#2a3f5f"
            },
            "marker": {
             "line": {
              "color": "#E5ECF6",
              "width": 0.5
             },
             "pattern": {
              "fillmode": "overlay",
              "size": 10,
              "solidity": 0.2
             }
            },
            "type": "bar"
           }
          ],
          "barpolar": [
           {
            "marker": {
             "line": {
              "color": "#E5ECF6",
              "width": 0.5
             },
             "pattern": {
              "fillmode": "overlay",
              "size": 10,
              "solidity": 0.2
             }
            },
            "type": "barpolar"
           }
          ],
          "carpet": [
           {
            "aaxis": {
             "endlinecolor": "#2a3f5f",
             "gridcolor": "white",
             "linecolor": "white",
             "minorgridcolor": "white",
             "startlinecolor": "#2a3f5f"
            },
            "baxis": {
             "endlinecolor": "#2a3f5f",
             "gridcolor": "white",
             "linecolor": "white",
             "minorgridcolor": "white",
             "startlinecolor": "#2a3f5f"
            },
            "type": "carpet"
           }
          ],
          "choropleth": [
           {
            "colorbar": {
             "outlinewidth": 0,
             "ticks": ""
            },
            "type": "choropleth"
           }
          ],
          "contour": [
           {
            "colorbar": {
             "outlinewidth": 0,
             "ticks": ""
            },
            "colorscale": [
             [
              0,
              "#0d0887"
             ],
             [
              0.1111111111111111,
              "#46039f"
             ],
             [
              0.2222222222222222,
              "#7201a8"
             ],
             [
              0.3333333333333333,
              "#9c179e"
             ],
             [
              0.4444444444444444,
              "#bd3786"
             ],
             [
              0.5555555555555556,
              "#d8576b"
             ],
             [
              0.6666666666666666,
              "#ed7953"
             ],
             [
              0.7777777777777778,
              "#fb9f3a"
             ],
             [
              0.8888888888888888,
              "#fdca26"
             ],
             [
              1,
              "#f0f921"
             ]
            ],
            "type": "contour"
           }
          ],
          "contourcarpet": [
           {
            "colorbar": {
             "outlinewidth": 0,
             "ticks": ""
            },
            "type": "contourcarpet"
           }
          ],
          "heatmap": [
           {
            "colorbar": {
             "outlinewidth": 0,
             "ticks": ""
            },
            "colorscale": [
             [
              0,
              "#0d0887"
             ],
             [
              0.1111111111111111,
              "#46039f"
             ],
             [
              0.2222222222222222,
              "#7201a8"
             ],
             [
              0.3333333333333333,
              "#9c179e"
             ],
             [
              0.4444444444444444,
              "#bd3786"
             ],
             [
              0.5555555555555556,
              "#d8576b"
             ],
             [
              0.6666666666666666,
              "#ed7953"
             ],
             [
              0.7777777777777778,
              "#fb9f3a"
             ],
             [
              0.8888888888888888,
              "#fdca26"
             ],
             [
              1,
              "#f0f921"
             ]
            ],
            "type": "heatmap"
           }
          ],
          "histogram": [
           {
            "marker": {
             "pattern": {
              "fillmode": "overlay",
              "size": 10,
              "solidity": 0.2
             }
            },
            "type": "histogram"
           }
          ],
          "histogram2d": [
           {
            "colorbar": {
             "outlinewidth": 0,
             "ticks": ""
            },
            "colorscale": [
             [
              0,
              "#0d0887"
             ],
             [
              0.1111111111111111,
              "#46039f"
             ],
             [
              0.2222222222222222,
              "#7201a8"
             ],
             [
              0.3333333333333333,
              "#9c179e"
             ],
             [
              0.4444444444444444,
              "#bd3786"
             ],
             [
              0.5555555555555556,
              "#d8576b"
             ],
             [
              0.6666666666666666,
              "#ed7953"
             ],
             [
              0.7777777777777778,
              "#fb9f3a"
             ],
             [
              0.8888888888888888,
              "#fdca26"
             ],
             [
              1,
              "#f0f921"
             ]
            ],
            "type": "histogram2d"
           }
          ],
          "histogram2dcontour": [
           {
            "colorbar": {
             "outlinewidth": 0,
             "ticks": ""
            },
            "colorscale": [
             [
              0,
              "#0d0887"
             ],
             [
              0.1111111111111111,
              "#46039f"
             ],
             [
              0.2222222222222222,
              "#7201a8"
             ],
             [
              0.3333333333333333,
              "#9c179e"
             ],
             [
              0.4444444444444444,
              "#bd3786"
             ],
             [
              0.5555555555555556,
              "#d8576b"
             ],
             [
              0.6666666666666666,
              "#ed7953"
             ],
             [
              0.7777777777777778,
              "#fb9f3a"
             ],
             [
              0.8888888888888888,
              "#fdca26"
             ],
             [
              1,
              "#f0f921"
             ]
            ],
            "type": "histogram2dcontour"
           }
          ],
          "mesh3d": [
           {
            "colorbar": {
             "outlinewidth": 0,
             "ticks": ""
            },
            "type": "mesh3d"
           }
          ],
          "parcoords": [
           {
            "line": {
             "colorbar": {
              "outlinewidth": 0,
              "ticks": ""
             }
            },
            "type": "parcoords"
           }
          ],
          "pie": [
           {
            "automargin": true,
            "type": "pie"
           }
          ],
          "scatter": [
           {
            "fillpattern": {
             "fillmode": "overlay",
             "size": 10,
             "solidity": 0.2
            },
            "type": "scatter"
           }
          ],
          "scatter3d": [
           {
            "line": {
             "colorbar": {
              "outlinewidth": 0,
              "ticks": ""
             }
            },
            "marker": {
             "colorbar": {
              "outlinewidth": 0,
              "ticks": ""
             }
            },
            "type": "scatter3d"
           }
          ],
          "scattercarpet": [
           {
            "marker": {
             "colorbar": {
              "outlinewidth": 0,
              "ticks": ""
             }
            },
            "type": "scattercarpet"
           }
          ],
          "scattergeo": [
           {
            "marker": {
             "colorbar": {
              "outlinewidth": 0,
              "ticks": ""
             }
            },
            "type": "scattergeo"
           }
          ],
          "scattergl": [
           {
            "marker": {
             "colorbar": {
              "outlinewidth": 0,
              "ticks": ""
             }
            },
            "type": "scattergl"
           }
          ],
          "scattermap": [
           {
            "marker": {
             "colorbar": {
              "outlinewidth": 0,
              "ticks": ""
             }
            },
            "type": "scattermap"
           }
          ],
          "scattermapbox": [
           {
            "marker": {
             "colorbar": {
              "outlinewidth": 0,
              "ticks": ""
             }
            },
            "type": "scattermapbox"
           }
          ],
          "scatterpolar": [
           {
            "marker": {
             "colorbar": {
              "outlinewidth": 0,
              "ticks": ""
             }
            },
            "type": "scatterpolar"
           }
          ],
          "scatterpolargl": [
           {
            "marker": {
             "colorbar": {
              "outlinewidth": 0,
              "ticks": ""
             }
            },
            "type": "scatterpolargl"
           }
          ],
          "scatterternary": [
           {
            "marker": {
             "colorbar": {
              "outlinewidth": 0,
              "ticks": ""
             }
            },
            "type": "scatterternary"
           }
          ],
          "surface": [
           {
            "colorbar": {
             "outlinewidth": 0,
             "ticks": ""
            },
            "colorscale": [
             [
              0,
              "#0d0887"
             ],
             [
              0.1111111111111111,
              "#46039f"
             ],
             [
              0.2222222222222222,
              "#7201a8"
             ],
             [
              0.3333333333333333,
              "#9c179e"
             ],
             [
              0.4444444444444444,
              "#bd3786"
             ],
             [
              0.5555555555555556,
              "#d8576b"
             ],
             [
              0.6666666666666666,
              "#ed7953"
             ],
             [
              0.7777777777777778,
              "#fb9f3a"
             ],
             [
              0.8888888888888888,
              "#fdca26"
             ],
             [
              1,
              "#f0f921"
             ]
            ],
            "type": "surface"
           }
          ],
          "table": [
           {
            "cells": {
             "fill": {
              "color": "#EBF0F8"
             },
             "line": {
              "color": "white"
             }
            },
            "header": {
             "fill": {
              "color": "#C8D4E3"
             },
             "line": {
              "color": "white"
             }
            },
            "type": "table"
           }
          ]
         },
         "layout": {
          "annotationdefaults": {
           "arrowcolor": "#2a3f5f",
           "arrowhead": 0,
           "arrowwidth": 1
          },
          "autotypenumbers": "strict",
          "coloraxis": {
           "colorbar": {
            "outlinewidth": 0,
            "ticks": ""
           }
          },
          "colorscale": {
           "diverging": [
            [
             0,
             "#8e0152"
            ],
            [
             0.1,
             "#c51b7d"
            ],
            [
             0.2,
             "#de77ae"
            ],
            [
             0.3,
             "#f1b6da"
            ],
            [
             0.4,
             "#fde0ef"
            ],
            [
             0.5,
             "#f7f7f7"
            ],
            [
             0.6,
             "#e6f5d0"
            ],
            [
             0.7,
             "#b8e186"
            ],
            [
             0.8,
             "#7fbc41"
            ],
            [
             0.9,
             "#4d9221"
            ],
            [
             1,
             "#276419"
            ]
           ],
           "sequential": [
            [
             0,
             "#0d0887"
            ],
            [
             0.1111111111111111,
             "#46039f"
            ],
            [
             0.2222222222222222,
             "#7201a8"
            ],
            [
             0.3333333333333333,
             "#9c179e"
            ],
            [
             0.4444444444444444,
             "#bd3786"
            ],
            [
             0.5555555555555556,
             "#d8576b"
            ],
            [
             0.6666666666666666,
             "#ed7953"
            ],
            [
             0.7777777777777778,
             "#fb9f3a"
            ],
            [
             0.8888888888888888,
             "#fdca26"
            ],
            [
             1,
             "#f0f921"
            ]
           ],
           "sequentialminus": [
            [
             0,
             "#0d0887"
            ],
            [
             0.1111111111111111,
             "#46039f"
            ],
            [
             0.2222222222222222,
             "#7201a8"
            ],
            [
             0.3333333333333333,
             "#9c179e"
            ],
            [
             0.4444444444444444,
             "#bd3786"
            ],
            [
             0.5555555555555556,
             "#d8576b"
            ],
            [
             0.6666666666666666,
             "#ed7953"
            ],
            [
             0.7777777777777778,
             "#fb9f3a"
            ],
            [
             0.8888888888888888,
             "#fdca26"
            ],
            [
             1,
             "#f0f921"
            ]
           ]
          },
          "colorway": [
           "#636efa",
           "#EF553B",
           "#00cc96",
           "#ab63fa",
           "#FFA15A",
           "#19d3f3",
           "#FF6692",
           "#B6E880",
           "#FF97FF",
           "#FECB52"
          ],
          "font": {
           "color": "#2a3f5f"
          },
          "geo": {
           "bgcolor": "white",
           "lakecolor": "white",
           "landcolor": "#E5ECF6",
           "showlakes": true,
           "showland": true,
           "subunitcolor": "white"
          },
          "hoverlabel": {
           "align": "left"
          },
          "hovermode": "closest",
          "mapbox": {
           "style": "light"
          },
          "paper_bgcolor": "white",
          "plot_bgcolor": "#E5ECF6",
          "polar": {
           "angularaxis": {
            "gridcolor": "white",
            "linecolor": "white",
            "ticks": ""
           },
           "bgcolor": "#E5ECF6",
           "radialaxis": {
            "gridcolor": "white",
            "linecolor": "white",
            "ticks": ""
           }
          },
          "scene": {
           "xaxis": {
            "backgroundcolor": "#E5ECF6",
            "gridcolor": "white",
            "gridwidth": 2,
            "linecolor": "white",
            "showbackground": true,
            "ticks": "",
            "zerolinecolor": "white"
           },
           "yaxis": {
            "backgroundcolor": "#E5ECF6",
            "gridcolor": "white",
            "gridwidth": 2,
            "linecolor": "white",
            "showbackground": true,
            "ticks": "",
            "zerolinecolor": "white"
           },
           "zaxis": {
            "backgroundcolor": "#E5ECF6",
            "gridcolor": "white",
            "gridwidth": 2,
            "linecolor": "white",
            "showbackground": true,
            "ticks": "",
            "zerolinecolor": "white"
           }
          },
          "shapedefaults": {
           "line": {
            "color": "#2a3f5f"
           }
          },
          "ternary": {
           "aaxis": {
            "gridcolor": "white",
            "linecolor": "white",
            "ticks": ""
           },
           "baxis": {
            "gridcolor": "white",
            "linecolor": "white",
            "ticks": ""
           },
           "bgcolor": "#E5ECF6",
           "caxis": {
            "gridcolor": "white",
            "linecolor": "white",
            "ticks": ""
           }
          },
          "title": {
           "x": 0.05
          },
          "xaxis": {
           "automargin": true,
           "gridcolor": "white",
           "linecolor": "white",
           "ticks": "",
           "title": {
            "standoff": 15
           },
           "zerolinecolor": "white",
           "zerolinewidth": 2
          },
          "yaxis": {
           "automargin": true,
           "gridcolor": "white",
           "linecolor": "white",
           "ticks": "",
           "title": {
            "standoff": 15
           },
           "zerolinecolor": "white",
           "zerolinewidth": 2
          }
         }
        },
        "title": {
         "text": "Brillouin Zone Visualization"
        },
        "width": 550
       }
      }
     },
     "metadata": {},
     "output_type": "display_data"
    }
   ],
   "source": [
    "def draw_brillouin_zone(facets):\n",
    "    import plotly.graph_objects as go\n",
    "\n",
    "    fig = go.Figure()\n",
    "\n",
    "    # Plot each facet of the Brillouin zone\n",
    "    for facet in facets:\n",
    "        x, y, z = zip(*[point for point in facet])\n",
    "        fig.add_trace(go.Mesh3d(x=x, y=y, z=z, opacity=0.5, color='lightgrey', name='Facet'))\n",
    "        for i in range(len(facet)):\n",
    "            fig.add_trace(go.Scatter3d(x=[x[i], x[(i+1) % len(facet)]],\n",
    "                                       y=[y[i], y[(i+1) % len(facet)]],\n",
    "                                       z=[z[i], z[(i+1) % len(facet)]],\n",
    "                                       mode='lines',\n",
    "                                       line=dict(color='black', width=2),\n",
    "                                       showlegend=False))\n",
    "\n",
    "    fig.update_layout(scene=dict(\n",
    "        xaxis_title='X',\n",
    "        yaxis_title='Y',\n",
    "        zaxis_title='Z',\n",
    "    ), \n",
    "        title=\"Brillouin Zone Visualization\",\n",
    "        margin=dict(l=0, r=0, b=0, t=40),\n",
    "        width=550,\n",
    "        height=550,\n",
    "    )\n",
    "\n",
    "    fig.show()\n",
    "\n",
    "# BCC Brillouin zone\n",
    "# structure = Structure.from_spacegroup(sg=229, species=[\"Fe\"], \n",
    "#                                          lattice=Lattice.from_parameters(a=2.87, b=2.87, c=2.87, alpha=90, beta=90, gamma=90) \n",
    "#                                          coords=[[0, 0, 0]])\n",
    "\n",
    "# FCC Brillouin zone\n",
    "structure = Structure.from_spacegroup(sg=227, species=[\"Si\"],\n",
    "                                            lattice=Lattice.from_parameters(a=5.43, b=5.43, c=5.43, alpha=90, beta=90, gamma=90),\n",
    "                                            coords=[[0, 0, 0]])\n",
    "sga = SpacegroupAnalyzer(structure, symprec=0.1, angle_tolerance=5)\n",
    "\n",
    "primitive_structure = sga.get_primitive_standard_structure()\n",
    "\n",
    "lattice = primitive_structure.lattice\n",
    "\n",
    "print(f\"Space group: {sga.get_space_group_symbol()}\")\n",
    "\n",
    "reciprocal_lattice = lattice.reciprocal_lattice_crystallographic\n",
    "brillouin_zone = reciprocal_lattice.get_brillouin_zone()\n",
    "\n",
    "print(f\"reciprocal_lattice = \\n{reciprocal_lattice:.3f}\")\n",
    "print(f\"brillouin_zone = {brillouin_zone}\")\n",
    "\n",
    "draw_brillouin_zone(brillouin_zone)\n",
    "\n"
   ]
  },
  {
   "cell_type": "markdown",
   "metadata": {},
   "source": [
    "## Calculate Diffraction Pattern\n",
    "You can generate an X-ray diffraction pattern from a crystal structure using `XRDCalculator`. The X-ray diffraction pattern is a plot of the intensity of X-ray diffraction peaks as a function of the diffraction angle. The diffraction angle is related to the spacing between the atomic planes in the crystal structure. You can also calculate electron diffraction patterns using `TEMCalculator`, and neutron diffraction patterns using `NDCalculator`.\n"
   ]
  },
  {
   "cell_type": "code",
   "execution_count": 16,
   "metadata": {},
   "outputs": [
    {
     "data": {
      "application/vnd.jupyter.widget-view+json": {
       "model_id": "8b844019ba0f4bdfbec47e92b9ffb405",
       "version_major": 2,
       "version_minor": 0
      },
      "text/plain": [
       "Retrieving MaterialsDoc documents:   0%|          | 0/1 [00:00<?, ?it/s]"
      ]
     },
     "metadata": {},
     "output_type": "display_data"
    },
    {
     "data": {
      "image/png": "[encoded data removed]",
      "text/plain": [
       "<Figure size 500x400 with 1 Axes>"
      ]
     },
     "metadata": {},
     "output_type": "display_data"
    }
   ],
   "source": [
    "from pymatgen.analysis.diffraction.xrd import XRDCalculator\n",
    "import numpy as np\n",
    "import matplotlib.pyplot as plt\n",
    "\n",
    "# structure = Structure.from_file(\"BaTiO3.cif\")\n",
    "structure = Structure.from_id(id_='mp-2998', api_key=\"WrdzUerIW5RHiXiXNSPm3sHeM4JN8BGV\")\n",
    "\n",
    "xrd = XRDCalculator(wavelength='CuKa')\n",
    "range_2theta = (30, 90)\n",
    "sigma = 0.3\n",
    "\n",
    "# Apply smearing to the XRD pattern\n",
    "pattern = xrd.get_pattern(structure=structure, scaled=True, two_theta_range=range_2theta)\n",
    "\n",
    "# Apply Gaussian smearing\n",
    "x_new = np.linspace(range_2theta[0], range_2theta[1], 1000)\n",
    "y_new = np.zeros_like(x_new)\n",
    "\n",
    "for x, y in zip(pattern.x, pattern.y):\n",
    "    y_new += y * np.exp(-(x_new - x)**2 / (2 * sigma**2))\n",
    "\n",
    "\n",
    "# Plot the smeared XRD pattern\n",
    "plt.figure(figsize=(5, 4))\n",
    "plt.plot(x_new, y_new, label=f'{structure.composition.reduced_formula}')\n",
    "plt.xlabel(\"2θ (degrees)\")\n",
    "plt.ylabel(\"Intensity (a.u.)\")\n",
    "plt.legend()\n",
    "plt.show()"
   ]
  },
  {
   "cell_type": "code",
   "execution_count": 17,
   "metadata": {},
   "outputs": [
    {
     "data": {
      "image/png": "[encoded data removed]",
      "text/plain": [
       "<Figure size 500x400 with 1 Axes>"
      ]
     },
     "metadata": {},
     "output_type": "display_data"
    }
   ],
   "source": [
    "from pymatgen.analysis.diffraction.xrd import XRDCalculator\n",
    "import numpy as np\n",
    "import matplotlib.pyplot as plt\n",
    "\n",
    "structure_strained = structure.copy().apply_strain(-0.03) # 3% compressive strain\n",
    "xrd = XRDCalculator(wavelength='CuKa')\n",
    "range_2theta = (30, 90)\n",
    "sigma = 0.3\n",
    "\n",
    "# Apply smearing to the XRD pattern\n",
    "pattern_strained = xrd.get_pattern(structure=structure_strained, scaled=True, two_theta_range=range_2theta)\n",
    "\n",
    "# Apply Gaussian smearing\n",
    "x_new = np.linspace(range_2theta[0], range_2theta[1], 1000)\n",
    "y_new_strain = np.zeros_like(x_new)\n",
    "\n",
    "for x, y in zip(pattern_strained.x, pattern_strained.y):\n",
    "    y_new_strain += y * np.exp(-(x_new - x)**2 / (2 * sigma**2))\n",
    "\n",
    "# Plot the smeared XRD pattern\n",
    "plt.figure(figsize=(5, 4))\n",
    "plt.plot(x_new, y_new, label=f'{structure.composition.reduced_formula}')\n",
    "plt.plot(x_new, y_new_strain, label=f'{structure.composition.reduced_formula} strained')\n",
    "\n",
    "plt.xlabel(\"2θ (degrees)\")\n",
    "plt.ylabel(\"Intensity (a.u.)\")\n",
    "plt.legend()\n",
    "plt.show()"
   ]
  },
  {
   "cell_type": "code",
   "execution_count": 19,
   "metadata": {},
   "outputs": [
    {
     "data": {
      "application/vnd.jupyter.widget-view+json": {
       "model_id": "070537fcaa984bc1948b6dfa4a032b51",
       "version_major": 2,
       "version_minor": 0
      },
      "text/plain": [
       "Retrieving MaterialsDoc documents:   0%|          | 0/1 [00:00<?, ?it/s]"
      ]
     },
     "metadata": {},
     "output_type": "display_data"
    },
    {
     "data": {
      "application/vnd.plotly.v1+json": {
       "config": {
        "plotlyServerURL": "https://plot.ly"
       },
       "data": [
        {
         "hoverinfo": "text",
         "marker": {
          "cmax": 1,
          "cmin": 0,
          "color": [
           0.0028953828826662883,
           8.464325633781335e-8,
           0.0013436228363427085,
           1.2304401354269347e-7,
           0.0064435726531517365,
           1.7869938814987076e-7,
           0.0027536600846393977,
           2.596920611940402e-7,
           0.012263589438032813,
           3.6577276090224576e-7,
           0.004964610413938551,
           4.7177990885966373e-7,
           0.01858940891404401,
           5.276700444427532e-7,
           0.006011998206514904,
           4.982695493483912e-7,
           0.01690646248384446,
           4.027777822202202e-7,
           0.004182400831669003,
           2.9234705835393406e-7,
           0.01003063494433204,
           2.0216084896150298e-7,
           8.464325774515372e-8,
           0.001998311775850865,
           8.065555915371794e-8,
           0.000317484456072846,
           6.838528157338983e-8,
           0.0042413751152727275,
           4.684316331784755e-8,
           0.000593169415553088,
           1.7881528326590827e-8,
           0.00792626392303552,
           1.4756952892336586e-32,
           0.0009394765145826009,
           3.08337027740234e-8,
           0.010913043690552699,
           1.2329523117176964e-7,
           0.0009396445206184197,
           2.2748737461656985e-7,
           0.007922872196182483,
           2.8574139801652313e-7,
           0.0005936250810695255,
           2.92347068186341e-7,
           0.004240093211232063,
           0.0013436228831413223,
           8.0655560568293e-8,
           0.006781577891346273,
           1.255098766187607e-7,
           0.0031279368394093883,
           2.0416757361329526e-7,
           0.015496173080162897,
           3.3798610061898834e-7,
           0.007481935077705677,
           5.297699655607178e-7,
           0.03386452542956134,
           7.19736514072285e-7,
           0.012807329300242316,
           7.825879798095362e-7,
           0.03944512544723239,
           6.632907281964761e-7,
           0.009592213560365562,
           4.606377234326515e-7,
           0.020565188474655036,
           2.857414089806815e-7,
           0.004182401089721122,
           1.7249162732663708e-7,
           1.2304401993462318e-7,
           0.0003174844663939511,
           1.2550987918218657e-7,
           0.004487518495260866,
           1.200524939508387e-7,
           0.0006771492897772256,
           9.515713156118542e-8,
           0.01091786537663673,
           4.149531982781353e-8,
           0.001469273325256791,
           7.750887889875045e-33,
           0.023876180550411987,
           7.919422980243593e-8,
           0.0019289375670702852,
           2.847804942751611e-7,
           0.019805673739497563,
           4.399358845397824e-7,
           0.001155211609183122,
           4.6063774313754607e-7,
           0.007922872696896982,
           4.0277782608146854e-7,
           0.0005270316025347153,
           0.0064435730977932225,
           6.838528567543528e-8,
           0.0031279369630171352,
           1.200524969425707e-7,
           0.01692517650752771,
           2.278726011646002e-7,
           0.009604162517028588,
           4.406066760970631e-7,
           0.05605306755735028,
           7.980413945575938e-7,
           0.027022840480715543,
           0.0000011679247310692387,
           0.10901495567297996,
           0.0000011673934976983245,
           0.02700465937296717,
           7.971157092464266e-7,
           0.05599076071959045,
           4.3993590541949516e-7,
           0.009592214324565772,
           2.274874020818375e-7,
           0.016906464581432773,
           1.1984550147505394e-7,
           1.7869940529510796e-7,
           0.004241375395937314,
           2.0416758847764155e-7,
           0.0006771493141350777,
           2.2787260789326265e-7,
           0.0124157636582246,
           2.137587198973755e-7,
           0.0019287989608685256,
           1.1338029447410297e-7,
           0.04626123953259624,
           5.342945295379331e-32,
           0.003496992178817609,
           2.488988768006624e-7,
           0.06018774127770773,
           7.010253980034674e-7,
           0.0025801976348119172,
           7.971157523226115e-7,
           0.01980567554416036,
           6.632908155419472e-7,
           0.0009396446271760455,
           4.982696385977583e-7,
           0.005760438355953035,
           0.002753660385865412,
           4.684316871150934e-8,
           0.015496174429528256,
           9.515713974453938e-8,
           0.009604163063898422,
           2.1375872722842747e-7,
           0.06852757572104337,
           5.193741787982106e-7,
           0.04520254167035666,
           0.0000012142534776396019,
           0.2865737758189601,
           0.0000019083840052408,
           0.09313971736156199,
           0.0000015052245252461187,
           0.19597136706522159,
           7.010254414728829e-7,
           0.027004661969307685,
           2.8478053558133716e-7,
           0.03944513189072503,
           1.23295254763564e-7,
           0.006011999302719801,
           5.8443954124981355e-8,
           2.5969209997831046e-7,
           0.000593169472318826,
           3.3798614632342097e-7,
           0.010917866514309456,
           4.406067195526296e-7,
           0.0019287990542727076,
           5.193742004730004e-7,
           0.06022655555984019,
           3.7667175987597757e-7,
           0.006032514421181661,
           2.7739022776303672e-33,
           0.2275492935216651,
           8.341393704590814e-7,
           0.006030525660230842,
           0.0000015052246263921675,
           0.06018774702981715,
           0.0000011673936855278537,
           0.0019289378006050566,
           7.825881369725033e-7,
           0.010913045736405117,
           5.276701624608828e-7,
           0.0005934226945024831,
           0.012263591229961795,
           1.788153143613732e-8,
           0.007481936189028873,
           4.149532613558707e-8,
           0.05605307487171419,
           1.13380307739354e-7,
           0.04520254507899916,
           3.766717779619389e-7,
           0.4740629820433485,
           0.0000011741137459938245,
           0.3494080864112224,
           0.0000017580245668934951,
           1,
           8.341394265812534e-7,
           0.09313972820137713,
           2.4889891896528135e-7,
           0.10901497477885068,
           7.919424633772315e-8,
           0.012807331844664706,
           3.083370976392389e-8,
           0.018589412629779423,
           1.3945608425873151e-8,
           3.6577283414601046e-7,
           0.007926265176197957,
           5.297700670883478e-7,
           0.0014692735185451416,
           7.980415318435985e-7,
           0.04626124542586714,
           0.000001214253637536481,
           0.006032514922452832,
           0.0000011741138013176032,
           0.688555700230923,
           1.9689949917355716e-33,
           0.05556962336144969,
           0.0000017580246663649467,
           0.22754932394678368,
           0.00000190838430834655,
           0.00349699247787086,
           0.0000011679249747110425,
           0.02387618529471502,
           7.197366731600742e-7,
           0.0009394766668140991,
           4.717800173211852e-7,
           0.005387031211377444,
           0.004964611367493222,
           1.4756953408982505e-32,
           0.033864532188307796,
           7.744823142907602e-33,
           0.02702284515876122,
           5.341308146088112e-32,
           0.28657381752954647,
           2.5028723380010485e-33,
           0.349408114339911,
           2.5527516336901876e-33,
           2.5527516336901876e-33,
           0.349408114339911,
           2.5028723380010485e-33,
           0.28657381752954647,
           5.341308146088112e-32,
           0.02702284515876122,
           7.744823142907602e-33,
           0.033864532188307796,
           1.4756953408982505e-32,
           0.004964611367493222,
           9.365368422171121e-33,
           4.717800173211852e-7,
           0.0009394766668140991,
           7.197366731600742e-7,
           0.02387618529471502,
           0.0000011679249747110425,
           0.00349699247787086,
           0.00000190838430834655,
           0.22754932394678368,
           0.0000017580246663649467,
           0.05556962336144969,
           1.9689949917355716e-33,
           0.688555700230923,
           0.0000011741138013176032,
           0.006032514922452832,
           0.000001214253637536481,
           0.04626124542586714,
           7.980415318435985e-7,
           0.0014692735185451416,
           5.297700670883478e-7,
           0.007926265176197957,
           3.6577283414601046e-7,
           0.0004719832601592558,
           0.018589412629779423,
           3.083370976392389e-8,
           0.012807331844664706,
           7.919424633772315e-8,
           0.10901497477885068,
           2.4889891896528135e-7,
           0.09313972820137713,
           8.341394265812534e-7,
           1,
           0.0000017580245668934951,
           0.3494080864112224,
           0.0000011741137459938245,
           0.4740629820433485,
           3.766717779619389e-7,
           0.04520254507899916,
           1.13380307739354e-7,
           0.05605307487171419,
           4.149532613558707e-8,
           0.007481936189028873,
           1.788153143613732e-8,
           0.012263591229961795,
           8.961454414936585e-9,
           5.276701624608828e-7,
           0.010913045736405117,
           7.825881369725033e-7,
           0.0019289378006050566,
           0.0000011673936855278537,
           0.06018774702981715,
           0.0000015052246263921675,
           0.006030525660230842,
           8.341393704590814e-7,
           0.2275492935216651,
           2.7739022776303672e-33,
           0.006032514421181661,
           3.7667175987597757e-7,
           0.06022655555984019,
           5.193742004730004e-7,
           0.0019287990542727076,
           4.406067195526296e-7,
           0.010917866514309456,
           3.3798614632342097e-7,
           0.000593169472318826,
           2.5969209997831046e-7,
           0.0036120739231261783,
           0.006011999302719801,
           1.23295254763564e-7,
           0.03944513189072503,
           2.8478053558133716e-7,
           0.027004661969307685,
           7.010254414728829e-7,
           0.19597136706522159,
           0.0000015052245252461187,
           0.09313971736156199,
           0.0000019083840052408,
           0.2865737758189601,
           0.0000012142534776396019,
           0.04520254167035666,
           5.193741787982106e-7,
           0.06852757572104337,
           2.1375872722842747e-7,
           0.009604163063898422,
           9.515713974453938e-8,
           0.015496174429528256,
           4.684316871150934e-8,
           0.002753660385865412,
           2.6177966448188658e-8,
           4.982696385977583e-7,
           0.0009396446271760455,
           6.632908155419472e-7,
           0.01980567554416036,
           7.971157523226115e-7,
           0.0025801976348119172,
           7.010253980034674e-7,
           0.06018774127770773,
           2.488988768006624e-7,
           0.003496992178817609,
           5.342945295379331e-32,
           0.04626123953259624,
           1.1338029447410297e-7,
           0.0019287989608685256,
           2.137587198973755e-7,
           0.0124157636582246,
           2.2787260789326265e-7,
           0.0006771493141350777,
           2.0416758847764155e-7,
           0.004241375395937314,
           1.7869940529510796e-7,
           0.0002886475537142939,
           0.016906464581432773,
           2.274874020818375e-7,
           0.009592214324565772,
           4.3993590541949516e-7,
           0.05599076071959045,
           7.971157092464266e-7,
           0.02700465937296717,
           0.0000011673934976983245,
           0.10901495567297996,
           0.0000011679247310692387,
           0.027022840480715543,
           7.980413945575938e-7,
           0.05605306755735028,
           4.406066760970631e-7,
           0.009604162517028588,
           2.278726011646002e-7,
           0.01692517650752771,
           1.200524969425707e-7,
           0.0031279369630171352,
           6.838528567543528e-8,
           0.0064435730977932225,
           4.223110219623738e-8,
           4.0277782608146854e-7,
           0.007922872696896982,
           4.6063774313754607e-7,
           0.001155211609183122,
           4.399358845397824e-7,
           0.019805673739497563,
           2.847804942751611e-7,
           0.0019289375670702852,
           7.919422980243593e-8,
           0.023876180550411987,
           7.750887889875045e-33,
           0.001469273325256791,
           4.149531982781353e-8,
           0.01091786537663673,
           9.515713156118542e-8,
           0.0006771492897772256,
           1.200524939508387e-7,
           0.004487518495260866,
           1.2550987918218657e-7,
           0.0003174844663939511,
           1.2304401993462318e-7,
           0.0019040620226537552,
           0.004182401089721122,
           2.857414089806815e-7,
           0.020565188474655036,
           4.606377234326515e-7,
           0.009592213560365562,
           6.632907281964761e-7,
           0.03944512544723239,
           7.825879798095362e-7,
           0.012807329300242316,
           7.19736514072285e-7,
           0.03386452542956134,
           5.297699655607178e-7,
           0.007481935077705677,
           3.3798610061898834e-7,
           0.015496173080162897,
           2.0416757361329526e-7,
           0.0031279368394093883,
           1.255098766187607e-7,
           0.006781577891346273,
           8.0655560568293e-8,
           0.0013436228831413223,
           5.3059265090200235e-8,
           2.92347068186341e-7,
           0.0005936250810695255,
           2.8574139801652313e-7,
           0.007922872196182483,
           2.2748737461656985e-7,
           0.0009396445206184197,
           1.2329523117176964e-7,
           0.010913043690552699,
           3.08337027740234e-8,
           0.0009394765145826009,
           1.4756952892336586e-32,
           0.00792626392303552,
           1.7881528326590827e-8,
           0.000593169415553088,
           4.684316331784755e-8,
           0.0042413751152727275,
           6.838528157338983e-8,
           0.000317484456072846,
           8.065555915371794e-8,
           0.001998311775850865,
           8.464325774515372e-8,
           0.00013375224499343982,
           0.01003063494433204,
           2.9234705835393406e-7,
           0.004182400831669003,
           4.027777822202202e-7,
           0.01690646248384446,
           4.982695493483912e-7,
           0.006011998206514904,
           5.276700444427532e-7,
           0.01858940891404401,
           4.7177990885966373e-7,
           0.004964610413938551,
           3.6577276090224576e-7,
           0.012263589438032813,
           2.596920611940402e-7,
           0.0027536600846393977,
           1.7869938814987076e-7,
           0.0064435726531517365,
           1.2304401354269347e-7,
           0.0013436228363427085,
           8.464325633781335e-8,
           0.0028953828826662883,
           5.7059012990679503e-8,
           2.0216084305793726e-7,
           0.004240093010896345,
           1.7249161079138433e-7,
           0.0005270315566301372,
           1.198454819590638e-7,
           0.005760437542687734,
           5.844394171678702e-8,
           0.000593422606175694,
           1.3945605214172566e-8,
           0.0053870303129276665,
           9.2972850306418e-33,
           0.0004719831962030178,
           8.961452853108938e-9,
           0.003612073476451497,
           2.617796312907439e-8,
           0.0002886475256660484,
           4.223109862755083e-8,
           0.0019040618817796032,
           5.3059262458712085e-8,
           0.00013375223944345836,
           5.7059012016022335e-8,
           0.000759683138396933
          ],
          "colorscale": [
           [
            0,
            "black"
           ],
           [
            1,
            "white"
           ]
          ],
          "size": 8
         },
         "mode": "markers",
         "showlegend": false,
         "text": [
          "(1̅0, 1̅0, 0)",
          "(9̅, 1̅0, 0)",
          "(8̅, 1̅0, 0)",
          "(7̅, 1̅0, 0)",
          "(6̅, 1̅0, 0)",
          "(5̅, 1̅0, 0)",
          "(4̅, 1̅0, 0)",
          "(3̅, 1̅0, 0)",
          "(2̅, 1̅0, 0)",
          "(1̅, 1̅0, 0)",
          "(0, 1̅0, 0)",
          "(1, 1̅0, 0)",
          "(2, 1̅0, 0)",
          "(3, 1̅0, 0)",
          "(4, 1̅0, 0)",
          "(5, 1̅0, 0)",
          "(6, 1̅0, 0)",
          "(7, 1̅0, 0)",
          "(8, 1̅0, 0)",
          "(9, 1̅0, 0)",
          "(10, 1̅0, 0)",
          "(11, 1̅0, 0)",
          "(1̅0, 9̅, 0)",
          "(9̅, 9̅, 0)",
          "(8̅, 9̅, 0)",
          "(7̅, 9̅, 0)",
          "(6̅, 9̅, 0)",
          "(5̅, 9̅, 0)",
          "(4̅, 9̅, 0)",
          "(3̅, 9̅, 0)",
          "(2̅, 9̅, 0)",
          "(1̅, 9̅, 0)",
          "(0, 9̅, 0)",
          "(1, 9̅, 0)",
          "(2, 9̅, 0)",
          "(3, 9̅, 0)",
          "(4, 9̅, 0)",
          "(5, 9̅, 0)",
          "(6, 9̅, 0)",
          "(7, 9̅, 0)",
          "(8, 9̅, 0)",
          "(9, 9̅, 0)",
          "(10, 9̅, 0)",
          "(11, 9̅, 0)",
          "(1̅0, 8̅, 0)",
          "(9̅, 8̅, 0)",
          "(8̅, 8̅, 0)",
          "(7̅, 8̅, 0)",
          "(6̅, 8̅, 0)",
          "(5̅, 8̅, 0)",
          "(4̅, 8̅, 0)",
          "(3̅, 8̅, 0)",
          "(2̅, 8̅, 0)",
          "(1̅, 8̅, 0)",
          "(0, 8̅, 0)",
          "(1, 8̅, 0)",
          "(2, 8̅, 0)",
          "(3, 8̅, 0)",
          "(4, 8̅, 0)",
          "(5, 8̅, 0)",
          "(6, 8̅, 0)",
          "(7, 8̅, 0)",
          "(8, 8̅, 0)",
          "(9, 8̅, 0)",
          "(10, 8̅, 0)",
          "(11, 8̅, 0)",
          "(1̅0, 7̅, 0)",
          "(9̅, 7̅, 0)",
          "(8̅, 7̅, 0)",
          "(7̅, 7̅, 0)",
          "(6̅, 7̅, 0)",
          "(5̅, 7̅, 0)",
          "(4̅, 7̅, 0)",
          "(3̅, 7̅, 0)",
          "(2̅, 7̅, 0)",
          "(1̅, 7̅, 0)",
          "(0, 7̅, 0)",
          "(1, 7̅, 0)",
          "(2, 7̅, 0)",
          "(3, 7̅, 0)",
          "(4, 7̅, 0)",
          "(5, 7̅, 0)",
          "(6, 7̅, 0)",
          "(7, 7̅, 0)",
          "(8, 7̅, 0)",
          "(9, 7̅, 0)",
          "(10, 7̅, 0)",
          "(11, 7̅, 0)",
          "(1̅0, 6̅, 0)",
          "(9̅, 6̅, 0)",
          "(8̅, 6̅, 0)",
          "(7̅, 6̅, 0)",
          "(6̅, 6̅, 0)",
          "(5̅, 6̅, 0)",
          "(4̅, 6̅, 0)",
          "(3̅, 6̅, 0)",
          "(2̅, 6̅, 0)",
          "(1̅, 6̅, 0)",
          "(0, 6̅, 0)",
          "(1, 6̅, 0)",
          "(2, 6̅, 0)",
          "(3, 6̅, 0)",
          "(4, 6̅, 0)",
          "(5, 6̅, 0)",
          "(6, 6̅, 0)",
          "(7, 6̅, 0)",
          "(8, 6̅, 0)",
          "(9, 6̅, 0)",
          "(10, 6̅, 0)",
          "(11, 6̅, 0)",
          "(1̅0, 5̅, 0)",
          "(9̅, 5̅, 0)",
          "(8̅, 5̅, 0)",
          "(7̅, 5̅, 0)",
          "(6̅, 5̅, 0)",
          "(5̅, 5̅, 0)",
          "(4̅, 5̅, 0)",
          "(3̅, 5̅, 0)",
          "(2̅, 5̅, 0)",
          "(1̅, 5̅, 0)",
          "(0, 5̅, 0)",
          "(1, 5̅, 0)",
          "(2, 5̅, 0)",
          "(3, 5̅, 0)",
          "(4, 5̅, 0)",
          "(5, 5̅, 0)",
          "(6, 5̅, 0)",
          "(7, 5̅, 0)",
          "(8, 5̅, 0)",
          "(9, 5̅, 0)",
          "(10, 5̅, 0)",
          "(11, 5̅, 0)",
          "(1̅0, 4̅, 0)",
          "(9̅, 4̅, 0)",
          "(8̅, 4̅, 0)",
          "(7̅, 4̅, 0)",
          "(6̅, 4̅, 0)",
          "(5̅, 4̅, 0)",
          "(4̅, 4̅, 0)",
          "(3̅, 4̅, 0)",
          "(2̅, 4̅, 0)",
          "(1̅, 4̅, 0)",
          "(0, 4̅, 0)",
          "(1, 4̅, 0)",
          "(2, 4̅, 0)",
          "(3, 4̅, 0)",
          "(4, 4̅, 0)",
          "(5, 4̅, 0)",
          "(6, 4̅, 0)",
          "(7, 4̅, 0)",
          "(8, 4̅, 0)",
          "(9, 4̅, 0)",
          "(10, 4̅, 0)",
          "(11, 4̅, 0)",
          "(1̅0, 3̅, 0)",
          "(9̅, 3̅, 0)",
          "(8̅, 3̅, 0)",
          "(7̅, 3̅, 0)",
          "(6̅, 3̅, 0)",
          "(5̅, 3̅, 0)",
          "(4̅, 3̅, 0)",
          "(3̅, 3̅, 0)",
          "(2̅, 3̅, 0)",
          "(1̅, 3̅, 0)",
          "(0, 3̅, 0)",
          "(1, 3̅, 0)",
          "(2, 3̅, 0)",
          "(3, 3̅, 0)",
          "(4, 3̅, 0)",
          "(5, 3̅, 0)",
          "(6, 3̅, 0)",
          "(7, 3̅, 0)",
          "(8, 3̅, 0)",
          "(9, 3̅, 0)",
          "(10, 3̅, 0)",
          "(11, 3̅, 0)",
          "(1̅0, 2̅, 0)",
          "(9̅, 2̅, 0)",
          "(8̅, 2̅, 0)",
          "(7̅, 2̅, 0)",
          "(6̅, 2̅, 0)",
          "(5̅, 2̅, 0)",
          "(4̅, 2̅, 0)",
          "(3̅, 2̅, 0)",
          "(2̅, 2̅, 0)",
          "(1̅, 2̅, 0)",
          "(0, 2̅, 0)",
          "(1, 2̅, 0)",
          "(2, 2̅, 0)",
          "(3, 2̅, 0)",
          "(4, 2̅, 0)",
          "(5, 2̅, 0)",
          "(6, 2̅, 0)",
          "(7, 2̅, 0)",
          "(8, 2̅, 0)",
          "(9, 2̅, 0)",
          "(10, 2̅, 0)",
          "(11, 2̅, 0)",
          "(1̅0, 1̅, 0)",
          "(9̅, 1̅, 0)",
          "(8̅, 1̅, 0)",
          "(7̅, 1̅, 0)",
          "(6̅, 1̅, 0)",
          "(5̅, 1̅, 0)",
          "(4̅, 1̅, 0)",
          "(3̅, 1̅, 0)",
          "(2̅, 1̅, 0)",
          "(1̅, 1̅, 0)",
          "(0, 1̅, 0)",
          "(1, 1̅, 0)",
          "(2, 1̅, 0)",
          "(3, 1̅, 0)",
          "(4, 1̅, 0)",
          "(5, 1̅, 0)",
          "(6, 1̅, 0)",
          "(7, 1̅, 0)",
          "(8, 1̅, 0)",
          "(9, 1̅, 0)",
          "(10, 1̅, 0)",
          "(11, 1̅, 0)",
          "(1̅0, 0, 0)",
          "(9̅, 0, 0)",
          "(8̅, 0, 0)",
          "(7̅, 0, 0)",
          "(6̅, 0, 0)",
          "(5̅, 0, 0)",
          "(4̅, 0, 0)",
          "(3̅, 0, 0)",
          "(2̅, 0, 0)",
          "(1̅, 0, 0)",
          "(1, 0, 0)",
          "(2, 0, 0)",
          "(3, 0, 0)",
          "(4, 0, 0)",
          "(5, 0, 0)",
          "(6, 0, 0)",
          "(7, 0, 0)",
          "(8, 0, 0)",
          "(9, 0, 0)",
          "(10, 0, 0)",
          "(11, 0, 0)",
          "(1̅0, 1, 0)",
          "(9̅, 1, 0)",
          "(8̅, 1, 0)",
          "(7̅, 1, 0)",
          "(6̅, 1, 0)",
          "(5̅, 1, 0)",
          "(4̅, 1, 0)",
          "(3̅, 1, 0)",
          "(2̅, 1, 0)",
          "(1̅, 1, 0)",
          "(0, 1, 0)",
          "(1, 1, 0)",
          "(2, 1, 0)",
          "(3, 1, 0)",
          "(4, 1, 0)",
          "(5, 1, 0)",
          "(6, 1, 0)",
          "(7, 1, 0)",
          "(8, 1, 0)",
          "(9, 1, 0)",
          "(10, 1, 0)",
          "(11, 1, 0)",
          "(1̅0, 2, 0)",
          "(9̅, 2, 0)",
          "(8̅, 2, 0)",
          "(7̅, 2, 0)",
          "(6̅, 2, 0)",
          "(5̅, 2, 0)",
          "(4̅, 2, 0)",
          "(3̅, 2, 0)",
          "(2̅, 2, 0)",
          "(1̅, 2, 0)",
          "(0, 2, 0)",
          "(1, 2, 0)",
          "(2, 2, 0)",
          "(3, 2, 0)",
          "(4, 2, 0)",
          "(5, 2, 0)",
          "(6, 2, 0)",
          "(7, 2, 0)",
          "(8, 2, 0)",
          "(9, 2, 0)",
          "(10, 2, 0)",
          "(11, 2, 0)",
          "(1̅0, 3, 0)",
          "(9̅, 3, 0)",
          "(8̅, 3, 0)",
          "(7̅, 3, 0)",
          "(6̅, 3, 0)",
          "(5̅, 3, 0)",
          "(4̅, 3, 0)",
          "(3̅, 3, 0)",
          "(2̅, 3, 0)",
          "(1̅, 3, 0)",
          "(0, 3, 0)",
          "(1, 3, 0)",
          "(2, 3, 0)",
          "(3, 3, 0)",
          "(4, 3, 0)",
          "(5, 3, 0)",
          "(6, 3, 0)",
          "(7, 3, 0)",
          "(8, 3, 0)",
          "(9, 3, 0)",
          "(10, 3, 0)",
          "(11, 3, 0)",
          "(1̅0, 4, 0)",
          "(9̅, 4, 0)",
          "(8̅, 4, 0)",
          "(7̅, 4, 0)",
          "(6̅, 4, 0)",
          "(5̅, 4, 0)",
          "(4̅, 4, 0)",
          "(3̅, 4, 0)",
          "(2̅, 4, 0)",
          "(1̅, 4, 0)",
          "(0, 4, 0)",
          "(1, 4, 0)",
          "(2, 4, 0)",
          "(3, 4, 0)",
          "(4, 4, 0)",
          "(5, 4, 0)",
          "(6, 4, 0)",
          "(7, 4, 0)",
          "(8, 4, 0)",
          "(9, 4, 0)",
          "(10, 4, 0)",
          "(11, 4, 0)",
          "(1̅0, 5, 0)",
          "(9̅, 5, 0)",
          "(8̅, 5, 0)",
          "(7̅, 5, 0)",
          "(6̅, 5, 0)",
          "(5̅, 5, 0)",
          "(4̅, 5, 0)",
          "(3̅, 5, 0)",
          "(2̅, 5, 0)",
          "(1̅, 5, 0)",
          "(0, 5, 0)",
          "(1, 5, 0)",
          "(2, 5, 0)",
          "(3, 5, 0)",
          "(4, 5, 0)",
          "(5, 5, 0)",
          "(6, 5, 0)",
          "(7, 5, 0)",
          "(8, 5, 0)",
          "(9, 5, 0)",
          "(10, 5, 0)",
          "(11, 5, 0)",
          "(1̅0, 6, 0)",
          "(9̅, 6, 0)",
          "(8̅, 6, 0)",
          "(7̅, 6, 0)",
          "(6̅, 6, 0)",
          "(5̅, 6, 0)",
          "(4̅, 6, 0)",
          "(3̅, 6, 0)",
          "(2̅, 6, 0)",
          "(1̅, 6, 0)",
          "(0, 6, 0)",
          "(1, 6, 0)",
          "(2, 6, 0)",
          "(3, 6, 0)",
          "(4, 6, 0)",
          "(5, 6, 0)",
          "(6, 6, 0)",
          "(7, 6, 0)",
          "(8, 6, 0)",
          "(9, 6, 0)",
          "(10, 6, 0)",
          "(11, 6, 0)",
          "(1̅0, 7, 0)",
          "(9̅, 7, 0)",
          "(8̅, 7, 0)",
          "(7̅, 7, 0)",
          "(6̅, 7, 0)",
          "(5̅, 7, 0)",
          "(4̅, 7, 0)",
          "(3̅, 7, 0)",
          "(2̅, 7, 0)",
          "(1̅, 7, 0)",
          "(0, 7, 0)",
          "(1, 7, 0)",
          "(2, 7, 0)",
          "(3, 7, 0)",
          "(4, 7, 0)",
          "(5, 7, 0)",
          "(6, 7, 0)",
          "(7, 7, 0)",
          "(8, 7, 0)",
          "(9, 7, 0)",
          "(10, 7, 0)",
          "(11, 7, 0)",
          "(1̅0, 8, 0)",
          "(9̅, 8, 0)",
          "(8̅, 8, 0)",
          "(7̅, 8, 0)",
          "(6̅, 8, 0)",
          "(5̅, 8, 0)",
          "(4̅, 8, 0)",
          "(3̅, 8, 0)",
          "(2̅, 8, 0)",
          "(1̅, 8, 0)",
          "(0, 8, 0)",
          "(1, 8, 0)",
          "(2, 8, 0)",
          "(3, 8, 0)",
          "(4, 8, 0)",
          "(5, 8, 0)",
          "(6, 8, 0)",
          "(7, 8, 0)",
          "(8, 8, 0)",
          "(9, 8, 0)",
          "(10, 8, 0)",
          "(11, 8, 0)",
          "(1̅0, 9, 0)",
          "(9̅, 9, 0)",
          "(8̅, 9, 0)",
          "(7̅, 9, 0)",
          "(6̅, 9, 0)",
          "(5̅, 9, 0)",
          "(4̅, 9, 0)",
          "(3̅, 9, 0)",
          "(2̅, 9, 0)",
          "(1̅, 9, 0)",
          "(0, 9, 0)",
          "(1, 9, 0)",
          "(2, 9, 0)",
          "(3, 9, 0)",
          "(4, 9, 0)",
          "(5, 9, 0)",
          "(6, 9, 0)",
          "(7, 9, 0)",
          "(8, 9, 0)",
          "(9, 9, 0)",
          "(10, 9, 0)",
          "(11, 9, 0)",
          "(1̅0, 10, 0)",
          "(9̅, 10, 0)",
          "(8̅, 10, 0)",
          "(7̅, 10, 0)",
          "(6̅, 10, 0)",
          "(5̅, 10, 0)",
          "(4̅, 10, 0)",
          "(3̅, 10, 0)",
          "(2̅, 10, 0)",
          "(1̅, 10, 0)",
          "(0, 10, 0)",
          "(1, 10, 0)",
          "(2, 10, 0)",
          "(3, 10, 0)",
          "(4, 10, 0)",
          "(5, 10, 0)",
          "(6, 10, 0)",
          "(7, 10, 0)",
          "(8, 10, 0)",
          "(9, 10, 0)",
          "(10, 10, 0)",
          "(11, 10, 0)",
          "(1̅0, 11, 0)",
          "(9̅, 11, 0)",
          "(8̅, 11, 0)",
          "(7̅, 11, 0)",
          "(6̅, 11, 0)",
          "(5̅, 11, 0)",
          "(4̅, 11, 0)",
          "(3̅, 11, 0)",
          "(2̅, 11, 0)",
          "(1̅, 11, 0)",
          "(0, 11, 0)",
          "(1, 11, 0)",
          "(2, 11, 0)",
          "(3, 11, 0)",
          "(4, 11, 0)",
          "(5, 11, 0)",
          "(6, 11, 0)",
          "(7, 11, 0)",
          "(8, 11, 0)",
          "(9, 11, 0)",
          "(10, 11, 0)",
          "(11, 11, 0)"
         ],
         "type": "scatter",
         "x": [
          11.558782139384007,
          10.691673291218489,
          9.824564443052976,
          8.957455594887461,
          8.090346746721947,
          7.223237898556432,
          6.356129050390917,
          5.489020202225403,
          4.621911354059888,
          3.7548025058943733,
          2.8876936577288586,
          2.020584809563344,
          1.1534759613978292,
          0.28636711323231623,
          -0.5807417349331985,
          -1.4478505830987132,
          -2.314959431264228,
          -3.1820682794297426,
          -4.049177127595257,
          -4.916285975760772,
          -5.783394823926287,
          -6.650503672091801,
          11.270012773611118,
          10.402903925445603,
          9.53579507728009,
          8.668686229114575,
          7.801577380949061,
          6.934468532783546,
          6.067359684618031,
          5.200250836452517,
          4.333141988287002,
          3.466033140121487,
          2.5989242919559725,
          1.7318154437904578,
          0.8647065956249431,
          -0.0024022525405698048,
          -0.8695111007060845,
          -1.7366199488715992,
          -2.603728797037114,
          -3.4708376452026286,
          -4.337946493368143,
          -5.205055341533656,
          -6.072164189699171,
          -6.939273037864686,
          10.981243407838232,
          10.114134559672717,
          9.247025711507204,
          8.37991686334169,
          7.512808015176175,
          6.64569916701066,
          5.778590318845145,
          4.911481470679631,
          4.044372622514118,
          3.177263774348603,
          2.3101549261830883,
          1.4430460780175736,
          0.5759372298520589,
          -0.29117161831345584,
          -1.1582804664789705,
          -2.0253893146444852,
          -2.89249816281,
          -3.7596070109755146,
          -4.626715859141029,
          -5.493824707306542,
          -6.360933555472057,
          -7.228042403637572,
          10.692474042065346,
          9.825365193899831,
          8.958256345734318,
          8.091147497568803,
          7.224038649403289,
          6.356929801237774,
          5.489820953072259,
          4.622712104906745,
          3.7556032567412316,
          2.888494408575717,
          2.0213855604102022,
          1.1542767122446875,
          0.28716786407917283,
          -0.5799409840863419,
          -1.4470498322518566,
          -2.3141586804173713,
          -3.181267528582886,
          -4.048376376748401,
          -4.915485224913915,
          -5.782594073079428,
          -6.649702921244943,
          -7.516811769410458,
          10.40370467629246,
          9.536595828126945,
          8.669486979961432,
          7.802378131795917,
          6.935269283630403,
          6.068160435464888,
          5.201051587299373,
          4.3339427391338585,
          3.4668338909683456,
          2.599725042802831,
          1.7326161946373162,
          0.8655073464718015,
          -0.0016015016937132032,
          -0.868710349859227,
          -1.7358191980247417,
          -2.6029280461902564,
          -3.470036894355771,
          -4.337145742521286,
          -5.2042545906868005,
          -6.071363438852313,
          -6.938472287017828,
          -7.805581135183343,
          10.114935310519574,
          9.247826462354059,
          8.380717614188544,
          7.513608766023031,
          6.646499917857517,
          5.779391069692002,
          4.912282221526488,
          4.045173373360973,
          3.1780645251954587,
          2.310955677029944,
          1.4438468288644293,
          0.5767379806989146,
          -0.29037086746659924,
          -1.157479715632114,
          -2.0245885637976286,
          -2.8916974119631433,
          -3.758806260128657,
          -4.625915108294172,
          -5.4930239564596866,
          -6.360132804625201,
          -7.227241652790716,
          -8.094350500956232,
          9.826165944746688,
          8.959057096581173,
          8.091948248415658,
          7.224839400250145,
          6.357730552084631,
          5.490621703919116,
          4.623512855753602,
          3.7564040075880873,
          2.8892951594225726,
          2.022186311257059,
          1.1550774630915441,
          0.28796861492602943,
          -0.5791402332394853,
          -1.446249081405,
          -2.3133579295705147,
          -3.1804667777360285,
          -4.047575625901543,
          -4.914684474067058,
          -5.781793322232572,
          -6.648902170398086,
          -7.516011018563601,
          -8.383119866729116,
          9.537396578973803,
          8.670287730808289,
          7.803178882642774,
          6.936070034477259,
          6.0689611863117445,
          5.20185233814623,
          4.334743489980716,
          3.4676346418152013,
          2.6005257936496866,
          1.7334169454841728,
          0.8663080973186581,
          -0.0008007508468566016,
          -0.8679095990123709,
          -1.7350184471778856,
          -2.6021272953434003,
          -3.469236143508914,
          -4.336344991674428,
          -5.203453839839943,
          -6.070562688005458,
          -6.937671536170972,
          -7.804780384336487,
          -8.671889232502002,
          9.248627213200917,
          8.381518365035403,
          7.514409516869888,
          6.647300668704373,
          5.7801918205388585,
          4.913082972373344,
          4.045974124207829,
          3.1788652760423153,
          2.311756427876801,
          1.4446475797112863,
          0.5775387315457721,
          -0.28957011661974263,
          -1.1566789647852573,
          -2.0237878129507716,
          -2.890896661116286,
          -3.7580055092818005,
          -4.625114357447315,
          -5.492223205612829,
          -6.359332053778344,
          -7.2264409019438585,
          -8.093549750109373,
          -8.960658598274888,
          8.959857847428031,
          8.092748999262517,
          7.225640151097002,
          6.358531302931487,
          5.4914224547659725,
          4.624313606600459,
          3.757204758434944,
          2.8900959102694292,
          2.0229870621039145,
          1.1558782139384005,
          0.28876936577288603,
          -0.5783394823926287,
          -1.445448330558143,
          -2.3125571787236576,
          -3.179666026889172,
          -4.046774875054687,
          -4.913883723220201,
          -5.780992571385715,
          -6.64810141955123,
          -7.5152102677167445,
          -8.38231911588226,
          -9.249427964047774,
          8.671088481655145,
          7.8039796334896305,
          6.936870785324116,
          6.069761937158601,
          5.202653088993087,
          4.335544240827573,
          3.468435392662058,
          2.6013265444965437,
          1.734217696331029,
          0.8671088481655147,
          -0.8671088481655145,
          -1.734217696331029,
          -2.6013265444965437,
          -3.468435392662058,
          -4.335544240827573,
          -5.202653088993087,
          -6.069761937158601,
          -6.936870785324116,
          -7.8039796334896305,
          -8.671088481655145,
          -9.53819732982066,
          8.38231911588226,
          7.5152102677167445,
          6.64810141955123,
          5.780992571385715,
          4.913883723220201,
          4.046774875054687,
          3.179666026889172,
          2.3125571787236576,
          1.445448330558143,
          0.5783394823926287,
          -0.28876936577288603,
          -1.1558782139384005,
          -2.0229870621039145,
          -2.8900959102694292,
          -3.757204758434944,
          -4.624313606600459,
          -5.4914224547659725,
          -6.358531302931487,
          -7.225640151097002,
          -8.092748999262517,
          -8.959857847428031,
          -9.826966695593546,
          8.093549750109373,
          7.2264409019438585,
          6.359332053778344,
          5.492223205612829,
          4.625114357447315,
          3.7580055092818005,
          2.890896661116286,
          2.0237878129507716,
          1.1566789647852573,
          0.28957011661974263,
          -0.5775387315457721,
          -1.4446475797112863,
          -2.311756427876801,
          -3.1788652760423153,
          -4.045974124207829,
          -4.913082972373344,
          -5.7801918205388585,
          -6.647300668704373,
          -7.514409516869888,
          -8.381518365035403,
          -9.248627213200917,
          -10.11573606136643,
          7.804780384336487,
          6.937671536170972,
          6.070562688005458,
          5.203453839839943,
          4.336344991674428,
          3.469236143508914,
          2.6021272953434003,
          1.7350184471778856,
          0.8679095990123709,
          0.0008007508468566016,
          -0.8663080973186581,
          -1.7334169454841728,
          -2.6005257936496866,
          -3.4676346418152013,
          -4.334743489980716,
          -5.20185233814623,
          -6.0689611863117445,
          -6.936070034477259,
          -7.803178882642774,
          -8.670287730808289,
          -9.537396578973803,
          -10.404505427139316,
          7.516011018563601,
          6.648902170398086,
          5.781793322232572,
          4.914684474067058,
          4.047575625901543,
          3.1804667777360285,
          2.3133579295705147,
          1.446249081405,
          0.5791402332394853,
          -0.28796861492602943,
          -1.1550774630915441,
          -2.022186311257059,
          -2.8892951594225726,
          -3.7564040075880873,
          -4.623512855753602,
          -5.490621703919116,
          -6.357730552084631,
          -7.224839400250145,
          -8.091948248415658,
          -8.959057096581173,
          -9.826165944746688,
          -10.693274792912202,
          7.227241652790716,
          6.360132804625201,
          5.4930239564596866,
          4.625915108294172,
          3.758806260128657,
          2.8916974119631433,
          2.0245885637976286,
          1.157479715632114,
          0.29037086746659924,
          -0.5767379806989146,
          -1.4438468288644293,
          -2.310955677029944,
          -3.1780645251954587,
          -4.045173373360973,
          -4.912282221526488,
          -5.779391069692002,
          -6.646499917857517,
          -7.513608766023031,
          -8.380717614188544,
          -9.247826462354059,
          -10.114935310519574,
          -10.982044158685088,
          6.938472287017828,
          6.071363438852313,
          5.2042545906868005,
          4.337145742521286,
          3.470036894355771,
          2.6029280461902564,
          1.7358191980247417,
          0.868710349859227,
          0.0016015016937132032,
          -0.8655073464718015,
          -1.7326161946373162,
          -2.599725042802831,
          -3.4668338909683456,
          -4.3339427391338585,
          -5.201051587299373,
          -6.068160435464888,
          -6.935269283630403,
          -7.802378131795917,
          -8.669486979961432,
          -9.536595828126945,
          -10.40370467629246,
          -11.270813524457974,
          6.649702921244943,
          5.782594073079428,
          4.915485224913915,
          4.048376376748401,
          3.181267528582886,
          2.3141586804173713,
          1.4470498322518566,
          0.5799409840863419,
          -0.28716786407917283,
          -1.1542767122446875,
          -2.0213855604102022,
          -2.888494408575717,
          -3.7556032567412316,
          -4.622712104906745,
          -5.489820953072259,
          -6.356929801237774,
          -7.224038649403289,
          -8.091147497568803,
          -8.958256345734318,
          -9.825365193899831,
          -10.692474042065346,
          -11.55958289023086,
          6.360933555472057,
          5.493824707306542,
          4.626715859141029,
          3.7596070109755146,
          2.89249816281,
          2.0253893146444852,
          1.1582804664789705,
          0.29117161831345584,
          -0.5759372298520589,
          -1.4430460780175736,
          -2.3101549261830883,
          -3.177263774348603,
          -4.044372622514118,
          -4.911481470679631,
          -5.778590318845145,
          -6.64569916701066,
          -7.512808015176175,
          -8.37991686334169,
          -9.247025711507204,
          -10.114134559672717,
          -10.981243407838232,
          -11.848352256003746,
          6.072164189699171,
          5.205055341533656,
          4.337946493368143,
          3.4708376452026286,
          2.603728797037114,
          1.7366199488715992,
          0.8695111007060845,
          0.0024022525405698048,
          -0.8647065956249431,
          -1.7318154437904578,
          -2.5989242919559725,
          -3.466033140121487,
          -4.333141988287002,
          -5.200250836452517,
          -6.067359684618031,
          -6.934468532783546,
          -7.801577380949061,
          -8.668686229114575,
          -9.53579507728009,
          -10.402903925445603,
          -11.270012773611118,
          -12.137121621776632,
          5.783394823926287,
          4.916285975760772,
          4.049177127595257,
          3.1820682794297426,
          2.314959431264228,
          1.4478505830987132,
          0.5807417349331985,
          -0.28636711323231623,
          -1.1534759613978292,
          -2.020584809563344,
          -2.8876936577288586,
          -3.7548025058943733,
          -4.621911354059888,
          -5.489020202225403,
          -6.356129050390917,
          -7.223237898556432,
          -8.090346746721947,
          -8.957455594887461,
          -9.824564443052976,
          -10.691673291218489,
          -11.558782139384004,
          -12.425890987549518,
          5.494625458153399,
          4.627516609987884,
          3.7604077618223695,
          2.8932989136568548,
          2.02619006549134,
          1.159081217325829,
          0.2919723691603142,
          -0.5751364790052005,
          -1.4422453271707152,
          -2.30935417533623,
          -3.1764630235017446,
          -4.043571871667259,
          -4.910680719832774,
          -5.777789567998289,
          -6.644898416163803,
          -7.512007264329318,
          -8.379116112494831,
          -9.246224960660346,
          -10.11333380882586,
          -10.980442656991375,
          -11.84755150515689,
          -12.714660353322405
         ],
         "y": [
          8.176124346420675,
          8.176124346420671,
          8.176124346420673,
          8.176124346420673,
          8.176124346420673,
          8.176124346420673,
          8.176124346420673,
          8.176124346420673,
          8.176124346420673,
          8.176124346420673,
          8.176124346420673,
          8.176124346420673,
          8.176124346420673,
          8.176124346420675,
          8.176124346420675,
          8.176124346420675,
          8.176124346420675,
          8.176124346420675,
          8.176124346420675,
          8.176124346420675,
          8.176124346420675,
          8.176124346420675,
          7.358511911778605,
          7.358511911778605,
          7.3585119117786055,
          7.3585119117786055,
          7.3585119117786055,
          7.3585119117786055,
          7.3585119117786055,
          7.3585119117786055,
          7.358511911778606,
          7.358511911778606,
          7.358511911778606,
          7.358511911778606,
          7.358511911778606,
          7.358511911778607,
          7.358511911778607,
          7.358511911778607,
          7.358511911778607,
          7.358511911778607,
          7.358511911778607,
          7.358511911778608,
          7.358511911778608,
          7.358511911778608,
          6.540899477136538,
          6.540899477136538,
          6.540899477136539,
          6.540899477136539,
          6.540899477136539,
          6.540899477136539,
          6.540899477136539,
          6.540899477136539,
          6.54089947713654,
          6.54089947713654,
          6.54089947713654,
          6.54089947713654,
          6.54089947713654,
          6.5408994771365405,
          6.5408994771365405,
          6.5408994771365405,
          6.5408994771365405,
          6.5408994771365405,
          6.5408994771365405,
          6.540899477136541,
          6.540899477136541,
          6.540899477136541,
          5.72328704249447,
          5.72328704249447,
          5.723287042494471,
          5.723287042494471,
          5.723287042494471,
          5.723287042494471,
          5.723287042494471,
          5.723287042494471,
          5.723287042494472,
          5.723287042494472,
          5.723287042494472,
          5.723287042494472,
          5.723287042494472,
          5.723287042494473,
          5.723287042494473,
          5.723287042494473,
          5.723287042494473,
          5.723287042494473,
          5.723287042494473,
          5.723287042494474,
          5.723287042494474,
          5.723287042494474,
          4.905674607852403,
          4.905674607852403,
          4.905674607852404,
          4.905674607852404,
          4.905674607852404,
          4.905674607852404,
          4.905674607852404,
          4.905674607852404,
          4.905674607852405,
          4.905674607852405,
          4.905674607852405,
          4.905674607852405,
          4.905674607852405,
          4.905674607852406,
          4.905674607852406,
          4.905674607852406,
          4.905674607852406,
          4.905674607852406,
          4.905674607852406,
          4.905674607852407,
          4.905674607852407,
          4.905674607852407,
          4.088062173210336,
          4.088062173210336,
          4.088062173210336,
          4.088062173210336,
          4.088062173210336,
          4.088062173210336,
          4.088062173210337,
          4.088062173210337,
          4.088062173210337,
          4.088062173210337,
          4.088062173210337,
          4.088062173210337,
          4.0880621732103375,
          4.0880621732103375,
          4.0880621732103375,
          4.0880621732103375,
          4.088062173210338,
          4.088062173210338,
          4.088062173210338,
          4.088062173210338,
          4.088062173210338,
          4.088062173210338,
          3.2704497385682685,
          3.2704497385682685,
          3.2704497385682685,
          3.270449738568269,
          3.270449738568269,
          3.270449738568269,
          3.2704497385682694,
          3.2704497385682694,
          3.2704497385682694,
          3.27044973856827,
          3.27044973856827,
          3.27044973856827,
          3.2704497385682703,
          3.2704497385682703,
          3.2704497385682703,
          3.2704497385682707,
          3.2704497385682707,
          3.2704497385682707,
          3.270449738568271,
          3.270449738568271,
          3.270449738568271,
          3.2704497385682716,
          2.4528373039262013,
          2.4528373039262013,
          2.4528373039262013,
          2.4528373039262017,
          2.4528373039262017,
          2.4528373039262017,
          2.452837303926202,
          2.452837303926202,
          2.452837303926202,
          2.4528373039262026,
          2.4528373039262026,
          2.4528373039262026,
          2.452837303926203,
          2.452837303926203,
          2.452837303926203,
          2.4528373039262035,
          2.4528373039262035,
          2.4528373039262035,
          2.452837303926204,
          2.452837303926204,
          2.452837303926204,
          2.4528373039262044,
          1.6352248692841334,
          1.6352248692841336,
          1.6352248692841338,
          1.6352248692841338,
          1.635224869284134,
          1.6352248692841342,
          1.6352248692841342,
          1.6352248692841345,
          1.6352248692841347,
          1.6352248692841347,
          1.635224869284135,
          1.6352248692841351,
          1.6352248692841351,
          1.6352248692841354,
          1.6352248692841356,
          1.6352248692841356,
          1.6352248692841358,
          1.635224869284136,
          1.635224869284136,
          1.6352248692841362,
          1.6352248692841365,
          1.6352248692841367,
          0.8176124346420658,
          0.8176124346420661,
          0.8176124346420662,
          0.8176124346420663,
          0.8176124346420666,
          0.8176124346420667,
          0.8176124346420669,
          0.817612434642067,
          0.8176124346420671,
          0.8176124346420673,
          0.8176124346420675,
          0.8176124346420676,
          0.8176124346420678,
          0.8176124346420679,
          0.817612434642068,
          0.8176124346420682,
          0.8176124346420683,
          0.8176124346420686,
          0.8176124346420687,
          0.8176124346420688,
          0.817612434642069,
          0.8176124346420691,
          -1.5546572834740764e-15,
          -1.3991915551266689e-15,
          -1.2437258267792611e-15,
          -1.0882600984318536e-15,
          -9.327943700844461e-16,
          -7.773286417370382e-16,
          -6.218629133896306e-16,
          -4.6639718504222305e-16,
          -3.109314566948153e-16,
          0,
          1.5546572834740764e-16,
          3.109314566948153e-16,
          4.6639718504222305e-16,
          6.218629133896306e-16,
          7.773286417370382e-16,
          9.327943700844461e-16,
          1.0882600984318536e-15,
          1.2437258267792611e-15,
          1.3991915551266689e-15,
          1.5546572834740764e-15,
          1.7101230118214843e-15,
          -0.817612434642069,
          -0.8176124346420688,
          -0.8176124346420687,
          -0.8176124346420686,
          -0.8176124346420683,
          -0.8176124346420682,
          -0.817612434642068,
          -0.8176124346420679,
          -0.8176124346420678,
          -0.8176124346420676,
          -0.8176124346420675,
          -0.8176124346420673,
          -0.8176124346420671,
          -0.817612434642067,
          -0.8176124346420669,
          -0.8176124346420667,
          -0.8176124346420666,
          -0.8176124346420663,
          -0.8176124346420662,
          -0.8176124346420661,
          -0.8176124346420658,
          -0.8176124346420657,
          -1.6352248692841365,
          -1.6352248692841362,
          -1.635224869284136,
          -1.635224869284136,
          -1.6352248692841358,
          -1.6352248692841356,
          -1.6352248692841356,
          -1.6352248692841354,
          -1.6352248692841351,
          -1.6352248692841351,
          -1.635224869284135,
          -1.6352248692841347,
          -1.6352248692841347,
          -1.6352248692841345,
          -1.6352248692841342,
          -1.6352248692841342,
          -1.635224869284134,
          -1.6352248692841338,
          -1.6352248692841338,
          -1.6352248692841336,
          -1.6352248692841334,
          -1.6352248692841331,
          -2.452837303926204,
          -2.452837303926204,
          -2.452837303926204,
          -2.4528373039262035,
          -2.4528373039262035,
          -2.4528373039262035,
          -2.452837303926203,
          -2.452837303926203,
          -2.452837303926203,
          -2.4528373039262026,
          -2.4528373039262026,
          -2.4528373039262026,
          -2.452837303926202,
          -2.452837303926202,
          -2.452837303926202,
          -2.4528373039262017,
          -2.4528373039262017,
          -2.4528373039262017,
          -2.4528373039262013,
          -2.4528373039262013,
          -2.4528373039262013,
          -2.452837303926201,
          -3.270449738568271,
          -3.270449738568271,
          -3.270449738568271,
          -3.2704497385682707,
          -3.2704497385682707,
          -3.2704497385682707,
          -3.2704497385682703,
          -3.2704497385682703,
          -3.2704497385682703,
          -3.27044973856827,
          -3.27044973856827,
          -3.27044973856827,
          -3.2704497385682694,
          -3.2704497385682694,
          -3.2704497385682694,
          -3.270449738568269,
          -3.270449738568269,
          -3.270449738568269,
          -3.2704497385682685,
          -3.2704497385682685,
          -3.2704497385682685,
          -3.270449738568268,
          -4.088062173210338,
          -4.088062173210338,
          -4.088062173210338,
          -4.088062173210338,
          -4.088062173210338,
          -4.0880621732103375,
          -4.0880621732103375,
          -4.0880621732103375,
          -4.0880621732103375,
          -4.088062173210337,
          -4.088062173210337,
          -4.088062173210337,
          -4.088062173210337,
          -4.088062173210337,
          -4.088062173210337,
          -4.088062173210336,
          -4.088062173210336,
          -4.088062173210336,
          -4.088062173210336,
          -4.088062173210336,
          -4.088062173210336,
          -4.088062173210335,
          -4.905674607852407,
          -4.905674607852407,
          -4.905674607852406,
          -4.905674607852406,
          -4.905674607852406,
          -4.905674607852406,
          -4.905674607852406,
          -4.905674607852406,
          -4.905674607852405,
          -4.905674607852405,
          -4.905674607852405,
          -4.905674607852405,
          -4.905674607852405,
          -4.905674607852404,
          -4.905674607852404,
          -4.905674607852404,
          -4.905674607852404,
          -4.905674607852404,
          -4.905674607852404,
          -4.905674607852403,
          -4.905674607852403,
          -4.905674607852403,
          -5.723287042494474,
          -5.723287042494474,
          -5.723287042494473,
          -5.723287042494473,
          -5.723287042494473,
          -5.723287042494473,
          -5.723287042494473,
          -5.723287042494473,
          -5.723287042494472,
          -5.723287042494472,
          -5.723287042494472,
          -5.723287042494472,
          -5.723287042494472,
          -5.723287042494471,
          -5.723287042494471,
          -5.723287042494471,
          -5.723287042494471,
          -5.723287042494471,
          -5.723287042494471,
          -5.72328704249447,
          -5.72328704249447,
          -5.72328704249447,
          -6.540899477136541,
          -6.540899477136541,
          -6.5408994771365405,
          -6.5408994771365405,
          -6.5408994771365405,
          -6.5408994771365405,
          -6.5408994771365405,
          -6.5408994771365405,
          -6.54089947713654,
          -6.54089947713654,
          -6.54089947713654,
          -6.54089947713654,
          -6.54089947713654,
          -6.540899477136539,
          -6.540899477136539,
          -6.540899477136539,
          -6.540899477136539,
          -6.540899477136539,
          -6.540899477136539,
          -6.540899477136538,
          -6.540899477136538,
          -6.540899477136538,
          -7.358511911778608,
          -7.358511911778608,
          -7.358511911778607,
          -7.358511911778607,
          -7.358511911778607,
          -7.358511911778607,
          -7.358511911778607,
          -7.358511911778607,
          -7.358511911778606,
          -7.358511911778606,
          -7.358511911778606,
          -7.358511911778606,
          -7.358511911778606,
          -7.3585119117786055,
          -7.3585119117786055,
          -7.3585119117786055,
          -7.3585119117786055,
          -7.3585119117786055,
          -7.3585119117786055,
          -7.358511911778605,
          -7.358511911778605,
          -7.358511911778605,
          -8.176124346420675,
          -8.176124346420675,
          -8.176124346420675,
          -8.176124346420675,
          -8.176124346420675,
          -8.176124346420675,
          -8.176124346420675,
          -8.176124346420675,
          -8.176124346420673,
          -8.176124346420673,
          -8.176124346420673,
          -8.176124346420673,
          -8.176124346420673,
          -8.176124346420673,
          -8.176124346420673,
          -8.176124346420673,
          -8.176124346420673,
          -8.176124346420673,
          -8.176124346420673,
          -8.176124346420671,
          -8.176124346420671,
          -8.176124346420671,
          -8.993736781062744,
          -8.993736781062744,
          -8.993736781062744,
          -8.993736781062744,
          -8.993736781062744,
          -8.993736781062742,
          -8.993736781062742,
          -8.993736781062742,
          -8.993736781062742,
          -8.993736781062742,
          -8.993736781062742,
          -8.993736781062742,
          -8.993736781062742,
          -8.993736781062742,
          -8.993736781062742,
          -8.993736781062742,
          -8.99373678106274,
          -8.99373678106274,
          -8.99373678106274,
          -8.99373678106274,
          -8.99373678106274,
          -8.99373678106274
         ]
        },
        {
         "hoverinfo": "text",
         "marker": {
          "cmax": 1,
          "cmin": 0,
          "color": "white",
          "size": 14
         },
         "mode": "markers",
         "showlegend": false,
         "text": "(0, 0, 0): Direct beam",
         "type": "scatter",
         "x": [
          0
         ],
         "y": [
          0
         ]
        }
       ],
       "layout": {
        "font": {
         "color": "#7f7f7f",
         "size": 14
        },
        "height": 550,
        "hovermode": "closest",
        "paper_bgcolor": "rgba(100,110,110,0.5)",
        "plot_bgcolor": "black",
        "template": {
         "data": {
          "bar": [
           {
            "error_x": {
             "color": "#2a3f5f"
            },
            "error_y": {
             "color": "#2a3f5f"
            },
            "marker": {
             "line": {
              "color": "#E5ECF6",
              "width": 0.5
             },
             "pattern": {
              "fillmode": "overlay",
              "size": 10,
              "solidity": 0.2
             }
            },
            "type": "bar"
           }
          ],
          "barpolar": [
           {
            "marker": {
             "line": {
              "color": "#E5ECF6",
              "width": 0.5
             },
             "pattern": {
              "fillmode": "overlay",
              "size": 10,
              "solidity": 0.2
             }
            },
            "type": "barpolar"
           }
          ],
          "carpet": [
           {
            "aaxis": {
             "endlinecolor": "#2a3f5f",
             "gridcolor": "white",
             "linecolor": "white",
             "minorgridcolor": "white",
             "startlinecolor": "#2a3f5f"
            },
            "baxis": {
             "endlinecolor": "#2a3f5f",
             "gridcolor": "white",
             "linecolor": "white",
             "minorgridcolor": "white",
             "startlinecolor": "#2a3f5f"
            },
            "type": "carpet"
           }
          ],
          "choropleth": [
           {
            "colorbar": {
             "outlinewidth": 0,
             "ticks": ""
            },
            "type": "choropleth"
           }
          ],
          "contour": [
           {
            "colorbar": {
             "outlinewidth": 0,
             "ticks": ""
            },
            "colorscale": [
             [
              0,
              "#0d0887"
             ],
             [
              0.1111111111111111,
              "#46039f"
             ],
             [
              0.2222222222222222,
              "#7201a8"
             ],
             [
              0.3333333333333333,
              "#9c179e"
             ],
             [
              0.4444444444444444,
              "#bd3786"
             ],
             [
              0.5555555555555556,
              "#d8576b"
             ],
             [
              0.6666666666666666,
              "#ed7953"
             ],
             [
              0.7777777777777778,
              "#fb9f3a"
             ],
             [
              0.8888888888888888,
              "#fdca26"
             ],
             [
              1,
              "#f0f921"
             ]
            ],
            "type": "contour"
           }
          ],
          "contourcarpet": [
           {
            "colorbar": {
             "outlinewidth": 0,
             "ticks": ""
            },
            "type": "contourcarpet"
           }
          ],
          "heatmap": [
           {
            "colorbar": {
             "outlinewidth": 0,
             "ticks": ""
            },
            "colorscale": [
             [
              0,
              "#0d0887"
             ],
             [
              0.1111111111111111,
              "#46039f"
             ],
             [
              0.2222222222222222,
              "#7201a8"
             ],
             [
              0.3333333333333333,
              "#9c179e"
             ],
             [
              0.4444444444444444,
              "#bd3786"
             ],
             [
              0.5555555555555556,
              "#d8576b"
             ],
             [
              0.6666666666666666,
              "#ed7953"
             ],
             [
              0.7777777777777778,
              "#fb9f3a"
             ],
             [
              0.8888888888888888,
              "#fdca26"
             ],
             [
              1,
              "#f0f921"
             ]
            ],
            "type": "heatmap"
           }
          ],
          "histogram": [
           {
            "marker": {
             "pattern": {
              "fillmode": "overlay",
              "size": 10,
              "solidity": 0.2
             }
            },
            "type": "histogram"
           }
          ],
          "histogram2d": [
           {
            "colorbar": {
             "outlinewidth": 0,
             "ticks": ""
            },
            "colorscale": [
             [
              0,
              "#0d0887"
             ],
             [
              0.1111111111111111,
              "#46039f"
             ],
             [
              0.2222222222222222,
              "#7201a8"
             ],
             [
              0.3333333333333333,
              "#9c179e"
             ],
             [
              0.4444444444444444,
              "#bd3786"
             ],
             [
              0.5555555555555556,
              "#d8576b"
             ],
             [
              0.6666666666666666,
              "#ed7953"
             ],
             [
              0.7777777777777778,
              "#fb9f3a"
             ],
             [
              0.8888888888888888,
              "#fdca26"
             ],
             [
              1,
              "#f0f921"
             ]
            ],
            "type": "histogram2d"
           }
          ],
          "histogram2dcontour": [
           {
            "colorbar": {
             "outlinewidth": 0,
             "ticks": ""
            },
            "colorscale": [
             [
              0,
              "#0d0887"
             ],
             [
              0.1111111111111111,
              "#46039f"
             ],
             [
              0.2222222222222222,
              "#7201a8"
             ],
             [
              0.3333333333333333,
              "#9c179e"
             ],
             [
              0.4444444444444444,
              "#bd3786"
             ],
             [
              0.5555555555555556,
              "#d8576b"
             ],
             [
              0.6666666666666666,
              "#ed7953"
             ],
             [
              0.7777777777777778,
              "#fb9f3a"
             ],
             [
              0.8888888888888888,
              "#fdca26"
             ],
             [
              1,
              "#f0f921"
             ]
            ],
            "type": "histogram2dcontour"
           }
          ],
          "mesh3d": [
           {
            "colorbar": {
             "outlinewidth": 0,
             "ticks": ""
            },
            "type": "mesh3d"
           }
          ],
          "parcoords": [
           {
            "line": {
             "colorbar": {
              "outlinewidth": 0,
              "ticks": ""
             }
            },
            "type": "parcoords"
           }
          ],
          "pie": [
           {
            "automargin": true,
            "type": "pie"
           }
          ],
          "scatter": [
           {
            "fillpattern": {
             "fillmode": "overlay",
             "size": 10,
             "solidity": 0.2
            },
            "type": "scatter"
           }
          ],
          "scatter3d": [
           {
            "line": {
             "colorbar": {
              "outlinewidth": 0,
              "ticks": ""
             }
            },
            "marker": {
             "colorbar": {
              "outlinewidth": 0,
              "ticks": ""
             }
            },
            "type": "scatter3d"
           }
          ],
          "scattercarpet": [
           {
            "marker": {
             "colorbar": {
              "outlinewidth": 0,
              "ticks": ""
             }
            },
            "type": "scattercarpet"
           }
          ],
          "scattergeo": [
           {
            "marker": {
             "colorbar": {
              "outlinewidth": 0,
              "ticks": ""
             }
            },
            "type": "scattergeo"
           }
          ],
          "scattergl": [
           {
            "marker": {
             "colorbar": {
              "outlinewidth": 0,
              "ticks": ""
             }
            },
            "type": "scattergl"
           }
          ],
          "scattermap": [
           {
            "marker": {
             "colorbar": {
              "outlinewidth": 0,
              "ticks": ""
             }
            },
            "type": "scattermap"
           }
          ],
          "scattermapbox": [
           {
            "marker": {
             "colorbar": {
              "outlinewidth": 0,
              "ticks": ""
             }
            },
            "type": "scattermapbox"
           }
          ],
          "scatterpolar": [
           {
            "marker": {
             "colorbar": {
              "outlinewidth": 0,
              "ticks": ""
             }
            },
            "type": "scatterpolar"
           }
          ],
          "scatterpolargl": [
           {
            "marker": {
             "colorbar": {
              "outlinewidth": 0,
              "ticks": ""
             }
            },
            "type": "scatterpolargl"
           }
          ],
          "scatterternary": [
           {
            "marker": {
             "colorbar": {
              "outlinewidth": 0,
              "ticks": ""
             }
            },
            "type": "scatterternary"
           }
          ],
          "surface": [
           {
            "colorbar": {
             "outlinewidth": 0,
             "ticks": ""
            },
            "colorscale": [
             [
              0,
              "#0d0887"
             ],
             [
              0.1111111111111111,
              "#46039f"
             ],
             [
              0.2222222222222222,
              "#7201a8"
             ],
             [
              0.3333333333333333,
              "#9c179e"
             ],
             [
              0.4444444444444444,
              "#bd3786"
             ],
             [
              0.5555555555555556,
              "#d8576b"
             ],
             [
              0.6666666666666666,
              "#ed7953"
             ],
             [
              0.7777777777777778,
              "#fb9f3a"
             ],
             [
              0.8888888888888888,
              "#fdca26"
             ],
             [
              1,
              "#f0f921"
             ]
            ],
            "type": "surface"
           }
          ],
          "table": [
           {
            "cells": {
             "fill": {
              "color": "#EBF0F8"
             },
             "line": {
              "color": "white"
             }
            },
            "header": {
             "fill": {
              "color": "#C8D4E3"
             },
             "line": {
              "color": "white"
             }
            },
            "type": "table"
           }
          ]
         },
         "layout": {
          "annotationdefaults": {
           "arrowcolor": "#2a3f5f",
           "arrowhead": 0,
           "arrowwidth": 1
          },
          "autotypenumbers": "strict",
          "coloraxis": {
           "colorbar": {
            "outlinewidth": 0,
            "ticks": ""
           }
          },
          "colorscale": {
           "diverging": [
            [
             0,
             "#8e0152"
            ],
            [
             0.1,
             "#c51b7d"
            ],
            [
             0.2,
             "#de77ae"
            ],
            [
             0.3,
             "#f1b6da"
            ],
            [
             0.4,
             "#fde0ef"
            ],
            [
             0.5,
             "#f7f7f7"
            ],
            [
             0.6,
             "#e6f5d0"
            ],
            [
             0.7,
             "#b8e186"
            ],
            [
             0.8,
             "#7fbc41"
            ],
            [
             0.9,
             "#4d9221"
            ],
            [
             1,
             "#276419"
            ]
           ],
           "sequential": [
            [
             0,
             "#0d0887"
            ],
            [
             0.1111111111111111,
             "#46039f"
            ],
            [
             0.2222222222222222,
             "#7201a8"
            ],
            [
             0.3333333333333333,
             "#9c179e"
            ],
            [
             0.4444444444444444,
             "#bd3786"
            ],
            [
             0.5555555555555556,
             "#d8576b"
            ],
            [
             0.6666666666666666,
             "#ed7953"
            ],
            [
             0.7777777777777778,
             "#fb9f3a"
            ],
            [
             0.8888888888888888,
             "#fdca26"
            ],
            [
             1,
             "#f0f921"
            ]
           ],
           "sequentialminus": [
            [
             0,
             "#0d0887"
            ],
            [
             0.1111111111111111,
             "#46039f"
            ],
            [
             0.2222222222222222,
             "#7201a8"
            ],
            [
             0.3333333333333333,
             "#9c179e"
            ],
            [
             0.4444444444444444,
             "#bd3786"
            ],
            [
             0.5555555555555556,
             "#d8576b"
            ],
            [
             0.6666666666666666,
             "#ed7953"
            ],
            [
             0.7777777777777778,
             "#fb9f3a"
            ],
            [
             0.8888888888888888,
             "#fdca26"
            ],
            [
             1,
             "#f0f921"
            ]
           ]
          },
          "colorway": [
           "#636efa",
           "#EF553B",
           "#00cc96",
           "#ab63fa",
           "#FFA15A",
           "#19d3f3",
           "#FF6692",
           "#B6E880",
           "#FF97FF",
           "#FECB52"
          ],
          "font": {
           "color": "#2a3f5f"
          },
          "geo": {
           "bgcolor": "white",
           "lakecolor": "white",
           "landcolor": "#E5ECF6",
           "showlakes": true,
           "showland": true,
           "subunitcolor": "white"
          },
          "hoverlabel": {
           "align": "left"
          },
          "hovermode": "closest",
          "mapbox": {
           "style": "light"
          },
          "paper_bgcolor": "white",
          "plot_bgcolor": "#E5ECF6",
          "polar": {
           "angularaxis": {
            "gridcolor": "white",
            "linecolor": "white",
            "ticks": ""
           },
           "bgcolor": "#E5ECF6",
           "radialaxis": {
            "gridcolor": "white",
            "linecolor": "white",
            "ticks": ""
           }
          },
          "scene": {
           "xaxis": {
            "backgroundcolor": "#E5ECF6",
            "gridcolor": "white",
            "gridwidth": 2,
            "linecolor": "white",
            "showbackground": true,
            "ticks": "",
            "zerolinecolor": "white"
           },
           "yaxis": {
            "backgroundcolor": "#E5ECF6",
            "gridcolor": "white",
            "gridwidth": 2,
            "linecolor": "white",
            "showbackground": true,
            "ticks": "",
            "zerolinecolor": "white"
           },
           "zaxis": {
            "backgroundcolor": "#E5ECF6",
            "gridcolor": "white",
            "gridwidth": 2,
            "linecolor": "white",
            "showbackground": true,
            "ticks": "",
            "zerolinecolor": "white"
           }
          },
          "shapedefaults": {
           "line": {
            "color": "#2a3f5f"
           }
          },
          "ternary": {
           "aaxis": {
            "gridcolor": "white",
            "linecolor": "white",
            "ticks": ""
           },
           "baxis": {
            "gridcolor": "white",
            "linecolor": "white",
            "ticks": ""
           },
           "bgcolor": "#E5ECF6",
           "caxis": {
            "gridcolor": "white",
            "linecolor": "white",
            "ticks": ""
           }
          },
          "title": {
           "x": 0.05
          },
          "xaxis": {
           "automargin": true,
           "gridcolor": "white",
           "linecolor": "white",
           "ticks": "",
           "title": {
            "standoff": 15
           },
           "zerolinecolor": "white",
           "zerolinewidth": 2
          },
          "yaxis": {
           "automargin": true,
           "gridcolor": "white",
           "linecolor": "white",
           "ticks": "",
           "title": {
            "standoff": 15
           },
           "zerolinecolor": "white",
           "zerolinewidth": 2
          }
         }
        },
        "title": {
         "text": "2D Diffraction Pattern<br>Beam Direction: 001"
        },
        "width": 550,
        "xaxis": {
         "range": [
          -4,
          4
         ],
         "showgrid": false,
         "showline": false,
         "showticklabels": false,
         "ticks": "",
         "zeroline": false
        },
        "yaxis": {
         "range": [
          -4,
          4
         ],
         "showgrid": false,
         "showline": false,
         "showticklabels": false,
         "ticks": "",
         "zeroline": false
        }
       }
      }
     },
     "metadata": {},
     "output_type": "display_data"
    }
   ],
   "source": [
    "from pymatgen.analysis.diffraction.tem import TEMCalculator \n",
    "from mpl_toolkits.axes_grid1 import make_axes_locatable\n",
    "\n",
    "# structure = Structure.from_file(\"BaTiO3.cif\")\n",
    "structure = Structure.from_id(id_='mp-2998', api_key=\"WrdzUerIW5RHiXiXNSPm3sHeM4JN8BGV\")\n",
    "tem = TEMCalculator(voltage = 200, beam_direction=(0, 0, 1))\n",
    "\n",
    "fig = tem.get_plot_2d(structure)\n",
    "\n",
    "fig.show()\n",
    "\n"
   ]
  }
 ],
 "metadata": {
  "kernelspec": {
   "display_name": "mi",
   "language": "python",
   "name": "python3"
  },
  "language_info": {
   "codemirror_mode": {
    "name": "ipython",
    "version": 3
   },
   "file_extension": ".py",
   "mimetype": "text/x-python",
   "name": "python",
   "nbconvert_exporter": "python",
   "pygments_lexer": "ipython3",
   "version": "3.12.8"
  }
 },
 "nbformat": 4,
 "nbformat_minor": 2
}
